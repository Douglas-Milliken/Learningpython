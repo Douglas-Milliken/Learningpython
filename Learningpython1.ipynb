{
  "nbformat": 4,
  "nbformat_minor": 0,
  "metadata": {
    "colab": {
      "name": "Copy of Copy of Learningpython.ipynb",
      "provenance": [],
      "collapsed_sections": [],
      "toc_visible": true,
      "authorship_tag": "ABX9TyO9zj4KnNgE3xlOh65j6gxm",
      "include_colab_link": true
    },
    "kernelspec": {
      "name": "python3",
      "display_name": "Python 3"
    },
    "language_info": {
      "name": "python"
    }
  },
  "cells": [
    {
      "cell_type": "markdown",
      "metadata": {
        "id": "view-in-github",
        "colab_type": "text"
      },
      "source": [
        "<a href=\"https://colab.research.google.com/github/Douglas-Milliken/Learningpython/blob/main/Learningpython1.ipynb\" target=\"_parent\"><img src=\"https://colab.research.google.com/assets/colab-badge.svg\" alt=\"Open In Colab\"/></a>"
      ]
    },
    {
      "cell_type": "code",
      "metadata": {
        "id": "Z86LGbZbHM1l"
      },
      "source": [
        ""
      ],
      "execution_count": null,
      "outputs": []
    },
    {
      "cell_type": "markdown",
      "metadata": {
        "id": "bzOeWCZuH7ka"
      },
      "source": [
        "# Variables\n"
      ]
    },
    {
      "cell_type": "markdown",
      "metadata": {
        "id": "ti88C3MkIFGn"
      },
      "source": [
        ""
      ]
    },
    {
      "cell_type": "markdown",
      "metadata": {
        "id": "JCEyUcLPJfOD"
      },
      "source": [
        "# Declare a variable and initialize it"
      ]
    },
    {
      "cell_type": "code",
      "metadata": {
        "colab": {
          "base_uri": "https://localhost:8080/"
        },
        "id": "cVziJcXKJl4u",
        "outputId": "11315510-8ecb-415d-b1cf-96319cdbb946"
      },
      "source": [
        "f = 0\n",
        "print (f)"
      ],
      "execution_count": null,
      "outputs": [
        {
          "output_type": "stream",
          "text": [
            "0\n"
          ],
          "name": "stdout"
        }
      ]
    },
    {
      "cell_type": "markdown",
      "metadata": {
        "id": "DuwZ_UuWJtEb"
      },
      "source": [
        "# re-declaring the variable works"
      ]
    },
    {
      "cell_type": "code",
      "metadata": {
        "colab": {
          "base_uri": "https://localhost:8080/"
        },
        "id": "fw1shOZ1JyI9",
        "outputId": "d02670bd-031b-43f6-b220-9b74caddd591"
      },
      "source": [
        "f = \"abc\"\n",
        "print (f)"
      ],
      "execution_count": null,
      "outputs": [
        {
          "output_type": "stream",
          "text": [
            "abc\n"
          ],
          "name": "stdout"
        }
      ]
    },
    {
      "cell_type": "markdown",
      "metadata": {
        "id": "r2pR2b0JJ2wT"
      },
      "source": [
        "# ERROR: variables of different types cannot be combined\n",
        "#print (\"string type \" + 123)"
      ]
    },
    {
      "cell_type": "code",
      "metadata": {
        "colab": {
          "base_uri": "https://localhost:8080/"
        },
        "id": "vaA78FANJ4F_",
        "outputId": "cb7edaf4-7993-401a-b3ef-80dddccf5fa4"
      },
      "source": [
        "print (\"string type \" + str(123))"
      ],
      "execution_count": null,
      "outputs": [
        {
          "output_type": "stream",
          "text": [
            "string type 123\n"
          ],
          "name": "stdout"
        }
      ]
    },
    {
      "cell_type": "markdown",
      "metadata": {
        "id": "vRQHrMu6J_z3"
      },
      "source": [
        "# Global vs. local variables in functions"
      ]
    },
    {
      "cell_type": "code",
      "metadata": {
        "colab": {
          "base_uri": "https://localhost:8080/",
          "height": 235
        },
        "id": "ol0pr_NoKDOy",
        "outputId": "6b600dd0-eab5-4225-f037-e7fc052728a5"
      },
      "source": [
        "def someFunction():\n",
        "  #global f\n",
        "  f = \"def\"\n",
        "  print (f)\n",
        "\n",
        "someFunction()\n",
        "print (f) \n",
        "\n",
        "del f\n",
        "print(f)"
      ],
      "execution_count": null,
      "outputs": [
        {
          "output_type": "stream",
          "text": [
            "def\n",
            "abc\n"
          ],
          "name": "stdout"
        },
        {
          "output_type": "error",
          "ename": "NameError",
          "evalue": "ignored",
          "traceback": [
            "\u001b[0;31m---------------------------------------------------------------------------\u001b[0m",
            "\u001b[0;31mNameError\u001b[0m                                 Traceback (most recent call last)",
            "\u001b[0;32m<ipython-input-6-0489bdb0f574>\u001b[0m in \u001b[0;36m<module>\u001b[0;34m()\u001b[0m\n\u001b[1;32m      8\u001b[0m \u001b[0;34m\u001b[0m\u001b[0m\n\u001b[1;32m      9\u001b[0m \u001b[0;32mdel\u001b[0m \u001b[0mf\u001b[0m\u001b[0;34m\u001b[0m\u001b[0;34m\u001b[0m\u001b[0m\n\u001b[0;32m---> 10\u001b[0;31m \u001b[0mprint\u001b[0m \u001b[0;34m(\u001b[0m\u001b[0mf\u001b[0m\u001b[0;34m)\u001b[0m\u001b[0;34m\u001b[0m\u001b[0;34m\u001b[0m\u001b[0m\n\u001b[0m",
            "\u001b[0;31mNameError\u001b[0m: name 'f' is not defined"
          ]
        }
      ]
    },
    {
      "cell_type": "markdown",
      "metadata": {
        "id": "ZYMosaytKHa6"
      },
      "source": [
        ""
      ]
    },
    {
      "cell_type": "markdown",
      "metadata": {
        "id": "ZAClNUVOIBgE"
      },
      "source": [
        "# Classes"
      ]
    },
    {
      "cell_type": "markdown",
      "metadata": {
        "id": "JLztWIXNKvc8"
      },
      "source": [
        "# Example file for working with classes"
      ]
    },
    {
      "cell_type": "code",
      "metadata": {
        "colab": {
          "base_uri": "https://localhost:8080/"
        },
        "id": "1v2E0yQFKy0p",
        "outputId": "b528ae88-1746-4440-8592-7b9b6c6fa367"
      },
      "source": [
        "class myClass():\n",
        "    def method1(self):\n",
        "        print(\"myClass method1\")\n",
        "\n",
        "    def method2(self, someString):\n",
        "        print(\"myClass method2: \" + someString)\n",
        "\n",
        "\n",
        "class anotherClass(myClass):\n",
        "    def method2(self):\n",
        "        print(\"anotherClass method2\")\n",
        "\n",
        "    def method1(self):\n",
        "        myClass.method1(self)\n",
        "        print(\"anotherClass method1\")\n",
        "\n",
        "\n",
        "def main():\n",
        "    c = myClass()\n",
        "    c.method1()\n",
        "    c.method2(\"This is a string\")\n",
        "    c2 = anotherClass()\n",
        "    c2.method1()\n",
        "\n",
        "\n",
        "if __name__ == \"__main__\":\n",
        "    main()"
      ],
      "execution_count": null,
      "outputs": [
        {
          "output_type": "stream",
          "text": [
            "myClass method1\n",
            "myClass method2: This is a string\n",
            "myClass method1\n",
            "anotherClass method1\n"
          ],
          "name": "stdout"
        }
      ]
    },
    {
      "cell_type": "markdown",
      "metadata": {
        "id": "djnJewWmKtr2"
      },
      "source": [
        ""
      ]
    },
    {
      "cell_type": "markdown",
      "metadata": {
        "id": "MTaWCjd3K8Bd"
      },
      "source": [
        "# Conditionals"
      ]
    },
    {
      "cell_type": "markdown",
      "metadata": {
        "id": "NUpGbKGaLDMu"
      },
      "source": [
        "# conditional statements let you use \"a if C else b\""
      ]
    },
    {
      "cell_type": "code",
      "metadata": {
        "colab": {
          "base_uri": "https://localhost:8080/",
          "height": 183
        },
        "id": "KTHcstfrLEya",
        "outputId": "1a912737-3aad-42b8-b5eb-723489fee2f7"
      },
      "source": [
        "st = \"x is less than y\" if (x < y) else \"x is greater than or equal to y\"\n",
        "print(st)"
      ],
      "execution_count": null,
      "outputs": [
        {
          "output_type": "error",
          "ename": "NameError",
          "evalue": "ignored",
          "traceback": [
            "\u001b[0;31m---------------------------------------------------------------------------\u001b[0m",
            "\u001b[0;31mNameError\u001b[0m                                 Traceback (most recent call last)",
            "\u001b[0;32m<ipython-input-4-27526e1e795f>\u001b[0m in \u001b[0;36m<module>\u001b[0;34m()\u001b[0m\n\u001b[0;32m----> 1\u001b[0;31m \u001b[0mst\u001b[0m \u001b[0;34m=\u001b[0m \u001b[0;34m\"x is less than y\"\u001b[0m \u001b[0;32mif\u001b[0m \u001b[0;34m(\u001b[0m\u001b[0mx\u001b[0m \u001b[0;34m<\u001b[0m \u001b[0my\u001b[0m\u001b[0;34m)\u001b[0m \u001b[0;32melse\u001b[0m \u001b[0;34m\"x is greater than or equal to y\"\u001b[0m\u001b[0;34m\u001b[0m\u001b[0;34m\u001b[0m\u001b[0m\n\u001b[0m\u001b[1;32m      2\u001b[0m \u001b[0mprint\u001b[0m\u001b[0;34m(\u001b[0m\u001b[0mst\u001b[0m\u001b[0;34m)\u001b[0m\u001b[0;34m\u001b[0m\u001b[0;34m\u001b[0m\u001b[0m\n",
            "\u001b[0;31mNameError\u001b[0m: name 'x' is not defined"
          ]
        }
      ]
    },
    {
      "cell_type": "markdown",
      "metadata": {
        "id": "5S5BzmC5LS04"
      },
      "source": [
        "Python does not have support for higher-order conditionals\n",
        "like \"switch-case\" in other languages"
      ]
    },
    {
      "cell_type": "code",
      "metadata": {
        "colab": {
          "base_uri": "https://localhost:8080/"
        },
        "id": "5kYLRAEtLXmj",
        "outputId": "9b71c535-f413-4ad5-fe2b-09a2de8c0863"
      },
      "source": [
        "if __name__ == \"__main__\":\n",
        "    main()"
      ],
      "execution_count": null,
      "outputs": [
        {
          "output_type": "stream",
          "text": [
            "myClass method1\n",
            "myClass method2: This is a string\n",
            "myClass method1\n",
            "anotherClass method1\n"
          ],
          "name": "stdout"
        }
      ]
    },
    {
      "cell_type": "markdown",
      "metadata": {
        "id": "ceaPHt2VK_oN"
      },
      "source": [
        ""
      ]
    },
    {
      "cell_type": "markdown",
      "metadata": {
        "id": "coqVenvhLfU2"
      },
      "source": [
        "# Functions\n"
      ]
    },
    {
      "cell_type": "markdown",
      "metadata": {
        "id": "8aiUzGd2LlyF"
      },
      "source": [
        "# define a basic function"
      ]
    },
    {
      "cell_type": "code",
      "metadata": {
        "id": "exE0mS0ALnBs"
      },
      "source": [
        "def func1():\n",
        "    print(\"I am a function\")"
      ],
      "execution_count": null,
      "outputs": []
    },
    {
      "cell_type": "markdown",
      "metadata": {
        "id": "8_H-rX4-Lq_5"
      },
      "source": [
        "# function that takes arguments"
      ]
    },
    {
      "cell_type": "code",
      "metadata": {
        "id": "hSNtHxyhLuH9"
      },
      "source": [
        "def func2(arg1, arg2):\n",
        "    print(arg1, \" \", arg2)"
      ],
      "execution_count": null,
      "outputs": []
    },
    {
      "cell_type": "markdown",
      "metadata": {
        "id": "G7K7mRrQLxx4"
      },
      "source": [
        "# function that returns a value"
      ]
    },
    {
      "cell_type": "code",
      "metadata": {
        "id": "JhjXx1-wK-fk"
      },
      "source": [
        "def cube(x):\n",
        "    return x*x*x"
      ],
      "execution_count": null,
      "outputs": []
    },
    {
      "cell_type": "markdown",
      "metadata": {
        "id": "4s9SfejrL2v5"
      },
      "source": [
        "# function with default value for an argument"
      ]
    },
    {
      "cell_type": "code",
      "metadata": {
        "id": "OhHUY4_WL05A"
      },
      "source": [
        "def power(num, x=1):\n",
        "    result = 1\n",
        "    for i in range(x):\n",
        "        result = result * num\n",
        "    return result"
      ],
      "execution_count": null,
      "outputs": []
    },
    {
      "cell_type": "markdown",
      "metadata": {
        "id": "Xdhs025IL8Ad"
      },
      "source": [
        "# function with variable number of arguments"
      ]
    },
    {
      "cell_type": "code",
      "metadata": {
        "colab": {
          "base_uri": "https://localhost:8080/"
        },
        "id": "mLZYriTFL5kq",
        "outputId": "dcc3a787-3815-4450-ffe6-72551bfc494c"
      },
      "source": [
        "def multi_add(*args):\n",
        "    result = 0\n",
        "    for x in args:\n",
        "        result = result + x\n",
        "    return result\n",
        "\n",
        "\n",
        "func1()\n",
        "print(func1())\n",
        "print(func1)\n",
        "func2(10, 20)\n",
        "print(func2(10, 20))\n",
        "print(cube(3))\n",
        "print(power(2))\n",
        "print(power(2, 3))\n",
        "print(power(x=3, num=2))\n",
        "print(multi_add(4, 5, 10, 4))"
      ],
      "execution_count": null,
      "outputs": [
        {
          "output_type": "stream",
          "text": [
            "I am a function\n",
            "I am a function\n",
            "None\n",
            "<function func1 at 0x7fbedf78f200>\n",
            "10   20\n",
            "10   20\n",
            "None\n",
            "27\n",
            "2\n",
            "8\n",
            "8\n",
            "23\n"
          ],
          "name": "stdout"
        }
      ]
    },
    {
      "cell_type": "markdown",
      "metadata": {
        "id": "DnfZNzM2MCyX"
      },
      "source": [
        "# Loops"
      ]
    },
    {
      "cell_type": "markdown",
      "metadata": {
        "id": "Jgt1LAeZMOpJ"
      },
      "source": [
        "# Example file for working with loops"
      ]
    },
    {
      "cell_type": "code",
      "metadata": {
        "id": "jImoBZNGMMTj"
      },
      "source": [
        "def main():\n",
        "  x = 0"
      ],
      "execution_count": null,
      "outputs": []
    },
    {
      "cell_type": "markdown",
      "metadata": {
        "id": "SCUwArcnMTbn"
      },
      "source": [
        "# define a while loop"
      ]
    },
    {
      "cell_type": "code",
      "metadata": {
        "colab": {
          "base_uri": "https://localhost:8080/",
          "height": 201
        },
        "id": "lp5zTYcJMRlh",
        "outputId": "d7eb738c-242f-4ed1-f6a2-52c85c2b24e3"
      },
      "source": [
        "while (x < 5):\n",
        "     print (x)\n",
        "     x = x + 1"
      ],
      "execution_count": null,
      "outputs": [
        {
          "output_type": "error",
          "ename": "NameError",
          "evalue": "ignored",
          "traceback": [
            "\u001b[0;31m---------------------------------------------------------------------------\u001b[0m",
            "\u001b[0;31mNameError\u001b[0m                                 Traceback (most recent call last)",
            "\u001b[0;32m<ipython-input-15-c683e6b6ee92>\u001b[0m in \u001b[0;36m<module>\u001b[0;34m()\u001b[0m\n\u001b[0;32m----> 1\u001b[0;31m \u001b[0;32mwhile\u001b[0m \u001b[0;34m(\u001b[0m\u001b[0mx\u001b[0m \u001b[0;34m<\u001b[0m \u001b[0;36m5\u001b[0m\u001b[0;34m)\u001b[0m\u001b[0;34m:\u001b[0m\u001b[0;34m\u001b[0m\u001b[0;34m\u001b[0m\u001b[0m\n\u001b[0m\u001b[1;32m      2\u001b[0m      \u001b[0mprint\u001b[0m \u001b[0;34m(\u001b[0m\u001b[0mx\u001b[0m\u001b[0;34m)\u001b[0m\u001b[0;34m\u001b[0m\u001b[0;34m\u001b[0m\u001b[0m\n\u001b[1;32m      3\u001b[0m      \u001b[0mx\u001b[0m \u001b[0;34m=\u001b[0m \u001b[0mx\u001b[0m \u001b[0;34m+\u001b[0m \u001b[0;36m1\u001b[0m\u001b[0;34m\u001b[0m\u001b[0;34m\u001b[0m\u001b[0m\n",
            "\u001b[0;31mNameError\u001b[0m: name 'x' is not defined"
          ]
        }
      ]
    },
    {
      "cell_type": "markdown",
      "metadata": {
        "id": "JwAc4eOYMftJ"
      },
      "source": [
        "# define a for loop"
      ]
    },
    {
      "cell_type": "code",
      "metadata": {
        "colab": {
          "base_uri": "https://localhost:8080/"
        },
        "id": "E_r8isVBMWLa",
        "outputId": "5a95da92-5141-4112-f91e-d80c896bcec9"
      },
      "source": [
        "  for x in range(5,10):\n",
        "    print (x)"
      ],
      "execution_count": null,
      "outputs": [
        {
          "output_type": "stream",
          "text": [
            "5\n",
            "6\n",
            "7\n",
            "8\n",
            "9\n"
          ],
          "name": "stdout"
        }
      ]
    },
    {
      "cell_type": "markdown",
      "metadata": {
        "id": "xiP5kAr6Mk2N"
      },
      "source": [
        "# use a for loop over a collection"
      ]
    },
    {
      "cell_type": "code",
      "metadata": {
        "colab": {
          "base_uri": "https://localhost:8080/"
        },
        "id": "PUg1axWJMif-",
        "outputId": "5c03a3a8-2da5-46ad-a29a-a0ed3681c753"
      },
      "source": [
        "  days = [\"Mon\",\"Tue\",\"Wed\",\"Thu\",\"Fri\",\"Sat\",\"Sun\"]\n",
        "  for d in days:\n",
        "    print (d)"
      ],
      "execution_count": null,
      "outputs": [
        {
          "output_type": "stream",
          "text": [
            "Mon\n",
            "Tue\n",
            "Wed\n",
            "Thu\n",
            "Fri\n",
            "Sat\n",
            "Sun\n"
          ],
          "name": "stdout"
        }
      ]
    },
    {
      "cell_type": "markdown",
      "metadata": {
        "id": "Rk7wZhh0MoUT"
      },
      "source": [
        "# use the break and continue statements"
      ]
    },
    {
      "cell_type": "code",
      "metadata": {
        "colab": {
          "base_uri": "https://localhost:8080/"
        },
        "id": "qrHAEYZbMndu",
        "outputId": "504d84da-68b1-4efa-fa7a-a12ece03c140"
      },
      "source": [
        "  for x in range(5,10):\n",
        "    #if (x == 7): break\n",
        "    #if (x % 2 == 0): continue\n",
        "    print (x)"
      ],
      "execution_count": null,
      "outputs": [
        {
          "output_type": "stream",
          "text": [
            "5\n",
            "6\n",
            "7\n",
            "8\n",
            "9\n"
          ],
          "name": "stdout"
        }
      ]
    },
    {
      "cell_type": "markdown",
      "metadata": {
        "id": "6eIIR6-rMvVh"
      },
      "source": [
        "#using the enumerate() function to get index "
      ]
    },
    {
      "cell_type": "code",
      "metadata": {
        "colab": {
          "base_uri": "https://localhost:8080/"
        },
        "id": "3auwu8YPMtWY",
        "outputId": "974e1d2f-b0cd-4b01-fff2-5b0a5117fa1f"
      },
      "source": [
        "  days = [\"Mon\",\"Tue\",\"Wed\",\"Thu\",\"Fri\",\"Sat\",\"Sun\"]\n",
        "  for i, d in enumerate(days):\n",
        "    print (i, d)\n",
        "  \n",
        "if __name__ == \"__main__\":\n",
        "    main()"
      ],
      "execution_count": null,
      "outputs": [
        {
          "output_type": "stream",
          "text": [
            "0 Mon\n",
            "1 Tue\n",
            "2 Wed\n",
            "3 Thu\n",
            "4 Fri\n",
            "5 Sat\n",
            "6 Sun\n"
          ],
          "name": "stdout"
        }
      ]
    }
  ]
}