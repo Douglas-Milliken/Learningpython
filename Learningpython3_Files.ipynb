{
  "nbformat": 4,
  "nbformat_minor": 0,
  "metadata": {
    "colab": {
      "name": "Files.ipynb",
      "provenance": [],
      "toc_visible": true,
      "authorship_tag": "ABX9TyO5iHAt2adLE/2mIxCVOIO+",
      "include_colab_link": true
    },
    "kernelspec": {
      "name": "python3",
      "display_name": "Python 3"
    },
    "language_info": {
      "name": "python"
    }
  },
  "cells": [
    {
      "cell_type": "markdown",
      "metadata": {
        "id": "view-in-github",
        "colab_type": "text"
      },
      "source": [
        "<a href=\"https://colab.research.google.com/github/Douglas-Milliken/Learningpython/blob/main/Learningpython3_Files.ipynb\" target=\"_parent\"><img src=\"https://colab.research.google.com/assets/colab-badge.svg\" alt=\"Open In Colab\"/></a>"
      ]
    },
    {
      "cell_type": "markdown",
      "metadata": {
        "id": "9bjIDFraZYJW"
      },
      "source": [
        ""
      ]
    },
    {
      "cell_type": "markdown",
      "metadata": {
        "id": "mcVX9MecZcEH"
      },
      "source": [
        "# Read and write files using the built-in Python file methods"
      ]
    },
    {
      "cell_type": "markdown",
      "metadata": {
        "id": "G3qAvD0WZyPy"
      },
      "source": [
        "# Open a file for writing and create it if it doesn't exist"
      ]
    },
    {
      "cell_type": "code",
      "metadata": {
        "id": "cyk4l-BAZc7K"
      },
      "source": [
        "def main(): \n",
        "  f = open(\"textfile.txt\",\"w+\")"
      ],
      "execution_count": 2,
      "outputs": []
    },
    {
      "cell_type": "markdown",
      "metadata": {
        "id": "H7j6GM2FZ5-3"
      },
      "source": [
        "# Open the file for appending text to the end"
      ]
    },
    {
      "cell_type": "code",
      "metadata": {
        "id": "QImrlGbiZ3xU"
      },
      "source": [
        "f = open(\"textfile.txt\",\"a+\")"
      ],
      "execution_count": 3,
      "outputs": []
    },
    {
      "cell_type": "markdown",
      "metadata": {
        "id": "1IqamFeSaF_Y"
      },
      "source": [
        "# write some lines of data to the file"
      ]
    },
    {
      "cell_type": "code",
      "metadata": {
        "id": "rCYUbtCRaCQV"
      },
      "source": [
        "  for i in range(10):\n",
        "    f.write(\"This is line %d\\r\\n\" % (i+1))"
      ],
      "execution_count": 4,
      "outputs": []
    },
    {
      "cell_type": "markdown",
      "metadata": {
        "id": "Sv5bJopvaNRB"
      },
      "source": [
        "# close the file when done"
      ]
    },
    {
      "cell_type": "code",
      "metadata": {
        "id": "lKGbqvrVaLS8"
      },
      "source": [
        "f.close()"
      ],
      "execution_count": 5,
      "outputs": []
    },
    {
      "cell_type": "markdown",
      "metadata": {
        "id": "98dZiQDeaR6r"
      },
      "source": [
        "# Open the file back up and read the contents"
      ]
    },
    {
      "cell_type": "code",
      "metadata": {
        "colab": {
          "base_uri": "https://localhost:8080/"
        },
        "id": "ukYD04YpaP-J",
        "outputId": "94c82638-cca2-4506-b66a-726451ed49ef"
      },
      "source": [
        "f = open(\"textfile.txt\",\"r\")\n",
        "if f.mode == 'r': # check to make sure that the file was opened\n",
        "    # use the read() function to read the entire file\n",
        "    # contents = f.read()\n",
        "    # print (contents)\n",
        "    \n",
        "    fl = f.readlines() # readlines reads the individual lines into a list\n",
        "    for x in fl:\n",
        "      print (x)\n",
        "    \n",
        "if __name__ == \"__main__\":\n",
        "  main()"
      ],
      "execution_count": 7,
      "outputs": [
        {
          "output_type": "stream",
          "text": [
            "This is line 1\n",
            "\n",
            "This is line 2\n",
            "\n",
            "This is line 3\n",
            "\n",
            "This is line 4\n",
            "\n",
            "This is line 5\n",
            "\n",
            "This is line 6\n",
            "\n",
            "This is line 7\n",
            "\n",
            "This is line 8\n",
            "\n",
            "This is line 9\n",
            "\n",
            "This is line 10\n",
            "\n"
          ],
          "name": "stdout"
        }
      ]
    },
    {
      "cell_type": "markdown",
      "metadata": {
        "id": "waY5KXPVafw5"
      },
      "source": [
        "# Example file for working with os.path module"
      ]
    },
    {
      "cell_type": "code",
      "metadata": {
        "id": "Ja_OH1dzar43"
      },
      "source": [
        "import os\n",
        "from os import path\n",
        "import datetime\n",
        "from datetime import date, time, timedelta\n",
        "import time"
      ],
      "execution_count": 8,
      "outputs": []
    },
    {
      "cell_type": "markdown",
      "metadata": {
        "id": "6WB6k8gzaznD"
      },
      "source": [
        "# Print the name of the OS"
      ]
    },
    {
      "cell_type": "code",
      "metadata": {
        "id": "8yshfoy7aZfg"
      },
      "source": [
        "def main():\n",
        "  \n",
        "  print (os.name)"
      ],
      "execution_count": 9,
      "outputs": []
    },
    {
      "cell_type": "markdown",
      "metadata": {
        "id": "BICZnUIoa4_2"
      },
      "source": [
        "# Check for item existence and type"
      ]
    },
    {
      "cell_type": "code",
      "metadata": {
        "colab": {
          "base_uri": "https://localhost:8080/"
        },
        "id": "MoMa3lEpa2Ky",
        "outputId": "68ced30e-8f8b-4e3b-afed-bac0ce6b6a5d"
      },
      "source": [
        "  print (\"Item exists: \" + str(path.exists(\"textfile.txt\")))\n",
        "  print (\"Item is a file: \" + str(path.isfile(\"textfile.txt\")))\n",
        "  print (\"Item is a directory: \" + str(path.isdir(\"textfile.txt\")))"
      ],
      "execution_count": 10,
      "outputs": [
        {
          "output_type": "stream",
          "text": [
            "Item exists: True\n",
            "Item is a file: True\n",
            "Item is a directory: False\n"
          ],
          "name": "stdout"
        }
      ]
    },
    {
      "cell_type": "markdown",
      "metadata": {
        "id": "rIxQjfrha_To"
      },
      "source": [
        "# Work with file paths"
      ]
    },
    {
      "cell_type": "code",
      "metadata": {
        "colab": {
          "base_uri": "https://localhost:8080/",
          "height": 131
        },
        "id": "DM26WkKAa8qq",
        "outputId": "63f936c4-6c45-4c41-81d1-b8b8d86c873c"
      },
      "source": [
        "print (\"Item's path: \" + str(path.realpath(\"textfile.txt\")))\n",
        "print (\"Item's path and name: \" + str(path.split(path.realpath(\"textfile.txt\")"
      ],
      "execution_count": 12,
      "outputs": [
        {
          "output_type": "error",
          "ename": "SyntaxError",
          "evalue": "ignored",
          "traceback": [
            "\u001b[0;36m  File \u001b[0;32m\"<ipython-input-12-833aa19fe2c6>\"\u001b[0;36m, line \u001b[0;32m2\u001b[0m\n\u001b[0;31m    print (\"Item's path and name: \" + str(path.split(path.realpath(\"textfile.txt\")\u001b[0m\n\u001b[0m                                                                                  ^\u001b[0m\n\u001b[0;31mSyntaxError\u001b[0m\u001b[0;31m:\u001b[0m unexpected EOF while parsing\n"
          ]
        }
      ]
    },
    {
      "cell_type": "markdown",
      "metadata": {
        "id": "uEIOdsn7bJVj"
      },
      "source": [
        "# Get the modification time"
      ]
    },
    {
      "cell_type": "code",
      "metadata": {
        "colab": {
          "base_uri": "https://localhost:8080/"
        },
        "id": "7F71YE_dbCZb",
        "outputId": "c5d83ee5-ffcb-41ed-bd27-1f6668699e44"
      },
      "source": [
        "  t = time.ctime(path.getmtime(\"textfile.txt\"))\n",
        "  print (t)\n",
        "  print (datetime.datetime.fromtimestamp(path.getmtime(\"textfile.txt\")))"
      ],
      "execution_count": 13,
      "outputs": [
        {
          "output_type": "stream",
          "text": [
            "Mon Mar 22 05:30:29 2021\n",
            "2021-03-22 05:30:29.948939\n"
          ],
          "name": "stdout"
        }
      ]
    },
    {
      "cell_type": "markdown",
      "metadata": {
        "id": "YVtxlAonbOwI"
      },
      "source": [
        " # Calculate how long ago the item was modified"
      ]
    },
    {
      "cell_type": "code",
      "metadata": {
        "colab": {
          "base_uri": "https://localhost:8080/",
          "height": 131
        },
        "id": "jJGFhARSbMPM",
        "outputId": "3fbfa39b-4d72-4526-8e31-d6f858c82858"
      },
      "source": [
        "  td= datetime.datetime.now() - datetime.datetime.fromtimestamp(path.getmtime(\"textfile.txt\"))\n",
        "  print (\"It has been \" + str(td) + \" since the file was modified\")\n",
        "  print (\"Or, \" + str(td.total_seconds()) + \" seconds\")\n",
        "\n",
        "if __name__ == \"__main__\":\n",
        "  main()\n"
      ],
      "execution_count": 17,
      "outputs": [
        {
          "output_type": "error",
          "ename": "IndentationError",
          "evalue": "ignored",
          "traceback": [
            "\u001b[0;36m  File \u001b[0;32m\"<ipython-input-17-359ccadd68fc>\"\u001b[0;36m, line \u001b[0;32m6\u001b[0m\n\u001b[0;31m    main()\u001b[0m\n\u001b[0m       ^\u001b[0m\n\u001b[0;31mIndentationError\u001b[0m\u001b[0;31m:\u001b[0m expected an indented block\n"
          ]
        }
      ]
    },
    {
      "cell_type": "markdown",
      "metadata": {
        "id": "6ppMPsmdbfCY"
      },
      "source": [
        "# Example file for working with filesystem shell methods"
      ]
    },
    {
      "cell_type": "code",
      "metadata": {
        "id": "LHjT2n2VbqiP"
      },
      "source": [
        "import os\n",
        "from os import path\n",
        "import shutil\n",
        "from shutil import make_archive\n",
        "from zipfile import ZipFile\n"
      ],
      "execution_count": 18,
      "outputs": []
    },
    {
      "cell_type": "markdown",
      "metadata": {
        "id": "xuUX8yskbyo4"
      },
      "source": [
        "# make a duplicate of an existing file"
      ]
    },
    {
      "cell_type": "code",
      "metadata": {
        "id": "UZb9141EbtOI"
      },
      "source": [
        "def main():\n",
        "  \n",
        "  if path.exists(\"textfile.txt\"):\n",
        "    \n",
        "    "
      ],
      "execution_count": null,
      "outputs": []
    },
    {
      "cell_type": "markdown",
      "metadata": {
        "id": "v9jtCeb0b1za"
      },
      "source": [
        "# get the path to the file in the current directory"
      ]
    },
    {
      "cell_type": "code",
      "metadata": {
        "id": "t1ry96XNb21D"
      },
      "source": [
        "src = path.realpath(\"textfile.txt\");"
      ],
      "execution_count": 19,
      "outputs": []
    },
    {
      "cell_type": "markdown",
      "metadata": {
        "id": "KO0kEr76b9IR"
      },
      "source": [
        "# let's make a backup copy by appending \"bak\" to the name"
      ]
    },
    {
      "cell_type": "code",
      "metadata": {
        "id": "JQmv6RZRb2Y5"
      },
      "source": [
        "dst = src + \".bak\""
      ],
      "execution_count": 20,
      "outputs": []
    },
    {
      "cell_type": "markdown",
      "metadata": {
        "id": "bHoOpcFocD_k"
      },
      "source": [
        "# now use the shell to make a copy of the file"
      ]
    },
    {
      "cell_type": "code",
      "metadata": {
        "colab": {
          "base_uri": "https://localhost:8080/",
          "height": 35
        },
        "id": "mHHZxZSwcGRG",
        "outputId": "2e71e414-0812-4f02-ec93-54a775ebfc4c"
      },
      "source": [
        "shutil.copy(src,dst)"
      ],
      "execution_count": 21,
      "outputs": [
        {
          "output_type": "execute_result",
          "data": {
            "application/vnd.google.colaboratory.intrinsic+json": {
              "type": "string"
            },
            "text/plain": [
              "'/content/textfile.txt.bak'"
            ]
          },
          "metadata": {
            "tags": []
          },
          "execution_count": 21
        }
      ]
    },
    {
      "cell_type": "markdown",
      "metadata": {
        "id": "KtPA2N1PcIhk"
      },
      "source": [
        "# copy over the permissions, modification times, and other info"
      ]
    },
    {
      "cell_type": "code",
      "metadata": {
        "id": "2QsMfyY6cBW3"
      },
      "source": [
        "shutil.copystat(src, dst)"
      ],
      "execution_count": 22,
      "outputs": []
    },
    {
      "cell_type": "markdown",
      "metadata": {
        "id": "LRIO3HFRcNT-"
      },
      "source": [
        "# rename the original file"
      ]
    },
    {
      "cell_type": "code",
      "metadata": {
        "id": "XWEo1m5XcLjm"
      },
      "source": [
        "os.rename(\"textfile.txt\", \"newfile.txt\")"
      ],
      "execution_count": 23,
      "outputs": []
    },
    {
      "cell_type": "markdown",
      "metadata": {
        "id": "tKaWTanUcRav"
      },
      "source": [
        "# now put things into a ZIP archive"
      ]
    },
    {
      "cell_type": "code",
      "metadata": {
        "colab": {
          "base_uri": "https://localhost:8080/",
          "height": 35
        },
        "id": "X65C51amcPtR",
        "outputId": "e1f0e8cf-c91f-4e9d-d56d-fd25e819cd91"
      },
      "source": [
        "root_dir,tail = path.split(src)\n",
        "shutil.make_archive(\"archive\", \"zip\", root_dir)"
      ],
      "execution_count": 26,
      "outputs": [
        {
          "output_type": "execute_result",
          "data": {
            "application/vnd.google.colaboratory.intrinsic+json": {
              "type": "string"
            },
            "text/plain": [
              "'/content/archive.zip'"
            ]
          },
          "metadata": {
            "tags": []
          },
          "execution_count": 26
        }
      ]
    },
    {
      "cell_type": "markdown",
      "metadata": {
        "id": "YQC3HhC3caK0"
      },
      "source": [
        "# more fine-grained control over ZIP files"
      ]
    },
    {
      "cell_type": "code",
      "metadata": {
        "colab": {
          "base_uri": "https://localhost:8080/"
        },
        "id": "RFigOWEgcUAX",
        "outputId": "64a0a743-19c7-406e-8984-aad957b89ac0"
      },
      "source": [
        "with ZipFile(\"testzip.zip\",\"w\") as newzip:\n",
        "  newzip.write(\"newfile.txt\")\n",
        "  newzip.write(\"textfile.txt.bak\")\n",
        "      \n",
        "if __name__ == \"__main__\":\n",
        "  main()"
      ],
      "execution_count": 28,
      "outputs": [
        {
          "output_type": "stream",
          "text": [
            "posix\n"
          ],
          "name": "stdout"
        }
      ]
    }
  ]
}