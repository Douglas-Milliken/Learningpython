{
  "nbformat": 4,
  "nbformat_minor": 0,
  "metadata": {
    "colab": {
      "name": "pandas.ipynb",
      "provenance": [],
      "authorship_tag": "ABX9TyMe/dJseHNG0YYHC735yEgv",
      "include_colab_link": true
    },
    "kernelspec": {
      "name": "python3",
      "display_name": "Python 3"
    },
    "language_info": {
      "name": "python"
    }
  },
  "cells": [
    {
      "cell_type": "markdown",
      "metadata": {
        "id": "view-in-github",
        "colab_type": "text"
      },
      "source": [
        "<a href=\"https://colab.research.google.com/github/Douglas-Milliken/Learningpython/blob/main/pandas.ipynb\" target=\"_parent\"><img src=\"https://colab.research.google.com/assets/colab-badge.svg\" alt=\"Open In Colab\"/></a>"
      ]
    },
    {
      "cell_type": "markdown",
      "metadata": {
        "id": "MOwvwWprrghx"
      },
      "source": [
        "# Pandas\n"
      ]
    },
    {
      "cell_type": "markdown",
      "metadata": {
        "id": "aSW8Wh6TrkJw"
      },
      "source": [
        "#Importing pandas"
      ]
    },
    {
      "cell_type": "code",
      "metadata": {
        "id": "XIggTHrgrajA"
      },
      "source": [
        "import pandas as pd"
      ],
      "execution_count": 1,
      "outputs": []
    },
    {
      "cell_type": "markdown",
      "metadata": {
        "id": "LDMDmN7ztywp"
      },
      "source": [
        "#Import the excel file"
      ]
    },
    {
      "cell_type": "code",
      "metadata": {
        "id": "N5O27Z9ht3bb"
      },
      "source": [
        "excel_file= 'music_albums.xlsx'"
      ],
      "execution_count": 2,
      "outputs": []
    },
    {
      "cell_type": "code",
      "metadata": {
        "id": "2p7yQ2qJuDWF"
      },
      "source": [
        "music_albums = pd.read_excel(excel_file)"
      ],
      "execution_count": 4,
      "outputs": []
    },
    {
      "cell_type": "markdown",
      "metadata": {
        "id": "UFB8NWJ3ufG3"
      },
      "source": [
        "Use DataFrame.head() to show the first few rows of the dataframe. No number shows the first 5 rows, if you pass a number an equal number of rows will be displayed.\n"
      ]
    },
    {
      "cell_type": "code",
      "metadata": {
        "colab": {
          "base_uri": "https://localhost:8080/",
          "height": 79
        },
        "id": "wGpAV-RKuPaL",
        "outputId": "31ce189b-9d2a-48ca-d3fc-8f779af8072e"
      },
      "source": [
        "music_albums.head(1)"
      ],
      "execution_count": 5,
      "outputs": [
        {
          "output_type": "execute_result",
          "data": {
            "text/html": [
              "<div>\n",
              "<style scoped>\n",
              "    .dataframe tbody tr th:only-of-type {\n",
              "        vertical-align: middle;\n",
              "    }\n",
              "\n",
              "    .dataframe tbody tr th {\n",
              "        vertical-align: top;\n",
              "    }\n",
              "\n",
              "    .dataframe thead th {\n",
              "        text-align: right;\n",
              "    }\n",
              "</style>\n",
              "<table border=\"1\" class=\"dataframe\">\n",
              "  <thead>\n",
              "    <tr style=\"text-align: right;\">\n",
              "      <th></th>\n",
              "      <th>Title</th>\n",
              "      <th>Year</th>\n",
              "      <th>Genre</th>\n",
              "      <th>Price</th>\n",
              "      <th>Copies_sold</th>\n",
              "    </tr>\n",
              "  </thead>\n",
              "  <tbody>\n",
              "    <tr>\n",
              "      <th>0</th>\n",
              "      <td>bad</td>\n",
              "      <td>1990</td>\n",
              "      <td>pop</td>\n",
              "      <td>15</td>\n",
              "      <td>100000</td>\n",
              "    </tr>\n",
              "  </tbody>\n",
              "</table>\n",
              "</div>"
            ],
            "text/plain": [
              "  Title  Year Genre  Price  Copies_sold\n",
              "0   bad  1990   pop     15       100000"
            ]
          },
          "metadata": {
            "tags": []
          },
          "execution_count": 5
        }
      ]
    },
    {
      "cell_type": "code",
      "metadata": {
        "colab": {
          "base_uri": "https://localhost:8080/",
          "height": 110
        },
        "id": "EJ0OZl8Ku17V",
        "outputId": "30679895-f086-443b-b0e3-3b12891dbfc0"
      },
      "source": [
        "music_albums.head(2)"
      ],
      "execution_count": 6,
      "outputs": [
        {
          "output_type": "execute_result",
          "data": {
            "text/html": [
              "<div>\n",
              "<style scoped>\n",
              "    .dataframe tbody tr th:only-of-type {\n",
              "        vertical-align: middle;\n",
              "    }\n",
              "\n",
              "    .dataframe tbody tr th {\n",
              "        vertical-align: top;\n",
              "    }\n",
              "\n",
              "    .dataframe thead th {\n",
              "        text-align: right;\n",
              "    }\n",
              "</style>\n",
              "<table border=\"1\" class=\"dataframe\">\n",
              "  <thead>\n",
              "    <tr style=\"text-align: right;\">\n",
              "      <th></th>\n",
              "      <th>Title</th>\n",
              "      <th>Year</th>\n",
              "      <th>Genre</th>\n",
              "      <th>Price</th>\n",
              "      <th>Copies_sold</th>\n",
              "    </tr>\n",
              "  </thead>\n",
              "  <tbody>\n",
              "    <tr>\n",
              "      <th>0</th>\n",
              "      <td>bad</td>\n",
              "      <td>1990</td>\n",
              "      <td>pop</td>\n",
              "      <td>15</td>\n",
              "      <td>100000</td>\n",
              "    </tr>\n",
              "    <tr>\n",
              "      <th>1</th>\n",
              "      <td>the thrill is gone</td>\n",
              "      <td>1991</td>\n",
              "      <td>blues</td>\n",
              "      <td>10</td>\n",
              "      <td>200000</td>\n",
              "    </tr>\n",
              "  </tbody>\n",
              "</table>\n",
              "</div>"
            ],
            "text/plain": [
              "                Title  Year  Genre  Price  Copies_sold\n",
              "0                 bad  1990    pop     15       100000\n",
              "1  the thrill is gone  1991  blues     10       200000"
            ]
          },
          "metadata": {
            "tags": []
          },
          "execution_count": 6
        }
      ]
    },
    {
      "cell_type": "code",
      "metadata": {
        "colab": {
          "base_uri": "https://localhost:8080/",
          "height": 141
        },
        "id": "QdCdaBAHu6nf",
        "outputId": "52cba1c0-1485-4f34-8630-f6c89f561022"
      },
      "source": [
        "music_albums.head(3)"
      ],
      "execution_count": 7,
      "outputs": [
        {
          "output_type": "execute_result",
          "data": {
            "text/html": [
              "<div>\n",
              "<style scoped>\n",
              "    .dataframe tbody tr th:only-of-type {\n",
              "        vertical-align: middle;\n",
              "    }\n",
              "\n",
              "    .dataframe tbody tr th {\n",
              "        vertical-align: top;\n",
              "    }\n",
              "\n",
              "    .dataframe thead th {\n",
              "        text-align: right;\n",
              "    }\n",
              "</style>\n",
              "<table border=\"1\" class=\"dataframe\">\n",
              "  <thead>\n",
              "    <tr style=\"text-align: right;\">\n",
              "      <th></th>\n",
              "      <th>Title</th>\n",
              "      <th>Year</th>\n",
              "      <th>Genre</th>\n",
              "      <th>Price</th>\n",
              "      <th>Copies_sold</th>\n",
              "    </tr>\n",
              "  </thead>\n",
              "  <tbody>\n",
              "    <tr>\n",
              "      <th>0</th>\n",
              "      <td>bad</td>\n",
              "      <td>1990</td>\n",
              "      <td>pop</td>\n",
              "      <td>15</td>\n",
              "      <td>100000</td>\n",
              "    </tr>\n",
              "    <tr>\n",
              "      <th>1</th>\n",
              "      <td>the thrill is gone</td>\n",
              "      <td>1991</td>\n",
              "      <td>blues</td>\n",
              "      <td>10</td>\n",
              "      <td>200000</td>\n",
              "    </tr>\n",
              "    <tr>\n",
              "      <th>2</th>\n",
              "      <td>I shot the sheriff</td>\n",
              "      <td>1992</td>\n",
              "      <td>reggae</td>\n",
              "      <td>11</td>\n",
              "      <td>300000</td>\n",
              "    </tr>\n",
              "  </tbody>\n",
              "</table>\n",
              "</div>"
            ],
            "text/plain": [
              "                Title  Year   Genre  Price  Copies_sold\n",
              "0                 bad  1990     pop     15       100000\n",
              "1  the thrill is gone  1991   blues     10       200000\n",
              "2  I shot the sheriff  1992  reggae     11       300000"
            ]
          },
          "metadata": {
            "tags": []
          },
          "execution_count": 7
        }
      ]
    },
    {
      "cell_type": "code",
      "metadata": {
        "colab": {
          "base_uri": "https://localhost:8080/",
          "height": 171
        },
        "id": "qbkMZPhTu97a",
        "outputId": "62cd54c1-98f0-4b5a-f55f-98dd0288a1ca"
      },
      "source": [
        "music_albums.head(4)"
      ],
      "execution_count": 9,
      "outputs": [
        {
          "output_type": "execute_result",
          "data": {
            "text/html": [
              "<div>\n",
              "<style scoped>\n",
              "    .dataframe tbody tr th:only-of-type {\n",
              "        vertical-align: middle;\n",
              "    }\n",
              "\n",
              "    .dataframe tbody tr th {\n",
              "        vertical-align: top;\n",
              "    }\n",
              "\n",
              "    .dataframe thead th {\n",
              "        text-align: right;\n",
              "    }\n",
              "</style>\n",
              "<table border=\"1\" class=\"dataframe\">\n",
              "  <thead>\n",
              "    <tr style=\"text-align: right;\">\n",
              "      <th></th>\n",
              "      <th>Title</th>\n",
              "      <th>Year</th>\n",
              "      <th>Genre</th>\n",
              "      <th>Price</th>\n",
              "      <th>Copies_sold</th>\n",
              "    </tr>\n",
              "  </thead>\n",
              "  <tbody>\n",
              "    <tr>\n",
              "      <th>0</th>\n",
              "      <td>bad</td>\n",
              "      <td>1990</td>\n",
              "      <td>pop</td>\n",
              "      <td>15</td>\n",
              "      <td>100000</td>\n",
              "    </tr>\n",
              "    <tr>\n",
              "      <th>1</th>\n",
              "      <td>the thrill is gone</td>\n",
              "      <td>1991</td>\n",
              "      <td>blues</td>\n",
              "      <td>10</td>\n",
              "      <td>200000</td>\n",
              "    </tr>\n",
              "    <tr>\n",
              "      <th>2</th>\n",
              "      <td>I shot the sheriff</td>\n",
              "      <td>1992</td>\n",
              "      <td>reggae</td>\n",
              "      <td>11</td>\n",
              "      <td>300000</td>\n",
              "    </tr>\n",
              "    <tr>\n",
              "      <th>3</th>\n",
              "      <td>The Slim Shady LP</td>\n",
              "      <td>1993</td>\n",
              "      <td>rap</td>\n",
              "      <td>10</td>\n",
              "      <td>500000</td>\n",
              "    </tr>\n",
              "  </tbody>\n",
              "</table>\n",
              "</div>"
            ],
            "text/plain": [
              "                Title  Year   Genre  Price  Copies_sold\n",
              "0                 bad  1990     pop     15       100000\n",
              "1  the thrill is gone  1991   blues     10       200000\n",
              "2  I shot the sheriff  1992  reggae     11       300000\n",
              "3   The Slim Shady LP  1993     rap     10       500000"
            ]
          },
          "metadata": {
            "tags": []
          },
          "execution_count": 9
        }
      ]
    },
    {
      "cell_type": "markdown",
      "metadata": {
        "id": "4geu9XuNvUjQ"
      },
      "source": [
        "Use the shape method to find out the number of columns and rows."
      ]
    },
    {
      "cell_type": "code",
      "metadata": {
        "colab": {
          "base_uri": "https://localhost:8080/"
        },
        "id": "hGsC24LVvZAP",
        "outputId": "87eef1bc-6ce2-409b-bfc0-ef83a3c14e11"
      },
      "source": [
        "music_albums.shape"
      ],
      "execution_count": 10,
      "outputs": [
        {
          "output_type": "execute_result",
          "data": {
            "text/plain": [
              "(32, 5)"
            ]
          },
          "metadata": {
            "tags": []
          },
          "execution_count": 10
        }
      ]
    },
    {
      "cell_type": "markdown",
      "metadata": {
        "id": "UZJjJdEYviVq"
      },
      "source": [
        "Use the tail method to show the bottom five rows. If you pass a number, that number of rows from the bottom will display."
      ]
    },
    {
      "cell_type": "code",
      "metadata": {
        "colab": {
          "base_uri": "https://localhost:8080/",
          "height": 202
        },
        "id": "PmWBk6Vrvrog",
        "outputId": "c39e7de4-0585-4a85-9c30-85e1946cc8e0"
      },
      "source": [
        "music_albums.tail()"
      ],
      "execution_count": 12,
      "outputs": [
        {
          "output_type": "execute_result",
          "data": {
            "text/html": [
              "<div>\n",
              "<style scoped>\n",
              "    .dataframe tbody tr th:only-of-type {\n",
              "        vertical-align: middle;\n",
              "    }\n",
              "\n",
              "    .dataframe tbody tr th {\n",
              "        vertical-align: top;\n",
              "    }\n",
              "\n",
              "    .dataframe thead th {\n",
              "        text-align: right;\n",
              "    }\n",
              "</style>\n",
              "<table border=\"1\" class=\"dataframe\">\n",
              "  <thead>\n",
              "    <tr style=\"text-align: right;\">\n",
              "      <th></th>\n",
              "      <th>Title</th>\n",
              "      <th>Year</th>\n",
              "      <th>Genre</th>\n",
              "      <th>Price</th>\n",
              "      <th>Copies_sold</th>\n",
              "    </tr>\n",
              "  </thead>\n",
              "  <tbody>\n",
              "    <tr>\n",
              "      <th>27</th>\n",
              "      <td>The Slim Shady LP</td>\n",
              "      <td>2017</td>\n",
              "      <td>rap</td>\n",
              "      <td>10</td>\n",
              "      <td>500000</td>\n",
              "    </tr>\n",
              "    <tr>\n",
              "      <th>28</th>\n",
              "      <td>bad</td>\n",
              "      <td>2018</td>\n",
              "      <td>pop</td>\n",
              "      <td>15</td>\n",
              "      <td>100000</td>\n",
              "    </tr>\n",
              "    <tr>\n",
              "      <th>29</th>\n",
              "      <td>the thrill is gone</td>\n",
              "      <td>2019</td>\n",
              "      <td>blues</td>\n",
              "      <td>10</td>\n",
              "      <td>200000</td>\n",
              "    </tr>\n",
              "    <tr>\n",
              "      <th>30</th>\n",
              "      <td>I shot the sheriff</td>\n",
              "      <td>2020</td>\n",
              "      <td>reggae</td>\n",
              "      <td>11</td>\n",
              "      <td>300000</td>\n",
              "    </tr>\n",
              "    <tr>\n",
              "      <th>31</th>\n",
              "      <td>The Slim Shady LP</td>\n",
              "      <td>2021</td>\n",
              "      <td>rap</td>\n",
              "      <td>10</td>\n",
              "      <td>500000</td>\n",
              "    </tr>\n",
              "  </tbody>\n",
              "</table>\n",
              "</div>"
            ],
            "text/plain": [
              "                 Title  Year   Genre  Price  Copies_sold\n",
              "27   The Slim Shady LP  2017     rap     10       500000\n",
              "28                 bad  2018     pop     15       100000\n",
              "29  the thrill is gone  2019   blues     10       200000\n",
              "30  I shot the sheriff  2020  reggae     11       300000\n",
              "31   The Slim Shady LP  2021     rap     10       500000"
            ]
          },
          "metadata": {
            "tags": []
          },
          "execution_count": 12
        }
      ]
    },
    {
      "cell_type": "code",
      "metadata": {
        "colab": {
          "base_uri": "https://localhost:8080/",
          "height": 79
        },
        "id": "j2OzelDrvBit",
        "outputId": "9d5a9219-3f40-47c5-a7b5-f9771909b3e1"
      },
      "source": [
        "music_albums.tail(1)"
      ],
      "execution_count": 13,
      "outputs": [
        {
          "output_type": "execute_result",
          "data": {
            "text/html": [
              "<div>\n",
              "<style scoped>\n",
              "    .dataframe tbody tr th:only-of-type {\n",
              "        vertical-align: middle;\n",
              "    }\n",
              "\n",
              "    .dataframe tbody tr th {\n",
              "        vertical-align: top;\n",
              "    }\n",
              "\n",
              "    .dataframe thead th {\n",
              "        text-align: right;\n",
              "    }\n",
              "</style>\n",
              "<table border=\"1\" class=\"dataframe\">\n",
              "  <thead>\n",
              "    <tr style=\"text-align: right;\">\n",
              "      <th></th>\n",
              "      <th>Title</th>\n",
              "      <th>Year</th>\n",
              "      <th>Genre</th>\n",
              "      <th>Price</th>\n",
              "      <th>Copies_sold</th>\n",
              "    </tr>\n",
              "  </thead>\n",
              "  <tbody>\n",
              "    <tr>\n",
              "      <th>31</th>\n",
              "      <td>The Slim Shady LP</td>\n",
              "      <td>2021</td>\n",
              "      <td>rap</td>\n",
              "      <td>10</td>\n",
              "      <td>500000</td>\n",
              "    </tr>\n",
              "  </tbody>\n",
              "</table>\n",
              "</div>"
            ],
            "text/plain": [
              "                Title  Year Genre  Price  Copies_sold\n",
              "31  The Slim Shady LP  2021   rap     10       500000"
            ]
          },
          "metadata": {
            "tags": []
          },
          "execution_count": 13
        }
      ]
    },
    {
      "cell_type": "markdown",
      "metadata": {
        "id": "PhLiAKsawA59"
      },
      "source": [
        "Use sort_values to sort"
      ]
    },
    {
      "cell_type": "code",
      "metadata": {
        "colab": {
          "base_uri": "https://localhost:8080/"
        },
        "id": "qrP4X53kwD6o",
        "outputId": "4e371b2b-f01e-486d-9dd0-5a4bc5c44cc3"
      },
      "source": [
        "sorted_by_price = music_albums.sort_values(['Price'], ascending=False)\n",
        "print(sorted_by_price)"
      ],
      "execution_count": 17,
      "outputs": [
        {
          "output_type": "stream",
          "text": [
            "                 Title  Year   Genre  Price  Copies_sold\n",
            "0                  bad  1990     pop     15       100000\n",
            "8                  bad  1998     pop     15       100000\n",
            "28                 bad  2018     pop     15       100000\n",
            "24                 bad  2014     pop     15       100000\n",
            "20                 bad  2010     pop     15       100000\n",
            "12                 bad  2002     pop     15       100000\n",
            "16                 bad  2006     pop     15       100000\n",
            "4                  bad  1994     pop     15       100000\n",
            "22  I shot the sheriff  2012  reggae     11       300000\n",
            "30  I shot the sheriff  2020  reggae     11       300000\n",
            "10  I shot the sheriff  2000  reggae     11       300000\n",
            "2   I shot the sheriff  1992  reggae     11       300000\n",
            "14  I shot the sheriff  2004  reggae     11       300000\n",
            "26  I shot the sheriff  2016  reggae     11       300000\n",
            "18  I shot the sheriff  2008  reggae     11       300000\n",
            "6   I shot the sheriff  1996  reggae     11       300000\n",
            "7    The Slim Shady LP  1997     rap     10       500000\n",
            "29  the thrill is gone  2019   blues     10       200000\n",
            "27   The Slim Shady LP  2017     rap     10       500000\n",
            "25  the thrill is gone  2015   blues     10       200000\n",
            "3    The Slim Shady LP  1993     rap     10       500000\n",
            "23   The Slim Shady LP  2013     rap     10       500000\n",
            "19   The Slim Shady LP  2009     rap     10       500000\n",
            "21  the thrill is gone  2011   blues     10       200000\n",
            "17  the thrill is gone  2007   blues     10       200000\n",
            "1   the thrill is gone  1991   blues     10       200000\n",
            "15   The Slim Shady LP  2005     rap     10       500000\n",
            "13  the thrill is gone  2003   blues     10       200000\n",
            "5   the thrill is gone  1995   blues     10       200000\n",
            "11   The Slim Shady LP  2001     rap     10       500000\n",
            "9   the thrill is gone  1999   blues     10       200000\n",
            "31   The Slim Shady LP  2021     rap     10       500000\n"
          ],
          "name": "stdout"
        }
      ]
    },
    {
      "cell_type": "code",
      "metadata": {
        "colab": {
          "base_uri": "https://localhost:8080/"
        },
        "id": "ST-HScgfwU24",
        "outputId": "ee607137-0c37-4160-c125-b29f2256e421"
      },
      "source": [
        "sorted_by_lowest_price=music_albums.sort_values(['Price'], ascending=True)\n",
        "print(sorted_by_lowest_price)"
      ],
      "execution_count": 21,
      "outputs": [
        {
          "output_type": "stream",
          "text": [
            "                 Title  Year   Genre  Price  Copies_sold\n",
            "15   The Slim Shady LP  2005     rap     10       500000\n",
            "29  the thrill is gone  2019   blues     10       200000\n",
            "27   The Slim Shady LP  2017     rap     10       500000\n",
            "25  the thrill is gone  2015   blues     10       200000\n",
            "23   The Slim Shady LP  2013     rap     10       500000\n",
            "21  the thrill is gone  2011   blues     10       200000\n",
            "19   The Slim Shady LP  2009     rap     10       500000\n",
            "17  the thrill is gone  2007   blues     10       200000\n",
            "13  the thrill is gone  2003   blues     10       200000\n",
            "11   The Slim Shady LP  2001     rap     10       500000\n",
            "31   The Slim Shady LP  2021     rap     10       500000\n",
            "9   the thrill is gone  1999   blues     10       200000\n",
            "1   the thrill is gone  1991   blues     10       200000\n",
            "3    The Slim Shady LP  1993     rap     10       500000\n",
            "7    The Slim Shady LP  1997     rap     10       500000\n",
            "5   the thrill is gone  1995   blues     10       200000\n",
            "14  I shot the sheriff  2004  reggae     11       300000\n",
            "18  I shot the sheriff  2008  reggae     11       300000\n",
            "6   I shot the sheriff  1996  reggae     11       300000\n",
            "10  I shot the sheriff  2000  reggae     11       300000\n",
            "22  I shot the sheriff  2012  reggae     11       300000\n",
            "26  I shot the sheriff  2016  reggae     11       300000\n",
            "2   I shot the sheriff  1992  reggae     11       300000\n",
            "30  I shot the sheriff  2020  reggae     11       300000\n",
            "16                 bad  2006     pop     15       100000\n",
            "20                 bad  2010     pop     15       100000\n",
            "4                  bad  1994     pop     15       100000\n",
            "24                 bad  2014     pop     15       100000\n",
            "8                  bad  1998     pop     15       100000\n",
            "28                 bad  2018     pop     15       100000\n",
            "12                 bad  2002     pop     15       100000\n",
            "0                  bad  1990     pop     15       100000\n"
          ],
          "name": "stdout"
        }
      ]
    },
    {
      "cell_type": "markdown",
      "metadata": {
        "id": "BqG-iaJqxKQy"
      },
      "source": [
        "Sorting by copies sold"
      ]
    },
    {
      "cell_type": "code",
      "metadata": {
        "colab": {
          "base_uri": "https://localhost:8080/"
        },
        "id": "ydglK-cPw53Y",
        "outputId": "58417888-1966-4ea3-b290-770112b71418"
      },
      "source": [
        " Copies_sold =music_albums.sort_values(['Copies_sold'], ascending=True)\n",
        " print(Copies_sold)"
      ],
      "execution_count": 25,
      "outputs": [
        {
          "output_type": "stream",
          "text": [
            "                 Title  Year   Genre  Price  Copies_sold\n",
            "0                  bad  1990     pop     15       100000\n",
            "20                 bad  2010     pop     15       100000\n",
            "16                 bad  2006     pop     15       100000\n",
            "8                  bad  1998     pop     15       100000\n",
            "28                 bad  2018     pop     15       100000\n",
            "12                 bad  2002     pop     15       100000\n",
            "24                 bad  2014     pop     15       100000\n",
            "4                  bad  1994     pop     15       100000\n",
            "29  the thrill is gone  2019   blues     10       200000\n",
            "9   the thrill is gone  1999   blues     10       200000\n",
            "21  the thrill is gone  2011   blues     10       200000\n",
            "25  the thrill is gone  2015   blues     10       200000\n",
            "13  the thrill is gone  2003   blues     10       200000\n",
            "1   the thrill is gone  1991   blues     10       200000\n",
            "5   the thrill is gone  1995   blues     10       200000\n",
            "17  the thrill is gone  2007   blues     10       200000\n",
            "22  I shot the sheriff  2012  reggae     11       300000\n",
            "26  I shot the sheriff  2016  reggae     11       300000\n",
            "6   I shot the sheriff  1996  reggae     11       300000\n",
            "2   I shot the sheriff  1992  reggae     11       300000\n",
            "14  I shot the sheriff  2004  reggae     11       300000\n",
            "10  I shot the sheriff  2000  reggae     11       300000\n",
            "18  I shot the sheriff  2008  reggae     11       300000\n",
            "30  I shot the sheriff  2020  reggae     11       300000\n",
            "27   The Slim Shady LP  2017     rap     10       500000\n",
            "15   The Slim Shady LP  2005     rap     10       500000\n",
            "19   The Slim Shady LP  2009     rap     10       500000\n",
            "11   The Slim Shady LP  2001     rap     10       500000\n",
            "7    The Slim Shady LP  1997     rap     10       500000\n",
            "3    The Slim Shady LP  1993     rap     10       500000\n",
            "23   The Slim Shady LP  2013     rap     10       500000\n",
            "31   The Slim Shady LP  2021     rap     10       500000\n"
          ],
          "name": "stdout"
        }
      ]
    },
    {
      "cell_type": "markdown",
      "metadata": {
        "id": "uYpdK9O_yiNY"
      },
      "source": [
        "Using the .head method to show the first rows"
      ]
    },
    {
      "cell_type": "code",
      "metadata": {
        "colab": {
          "base_uri": "https://localhost:8080/"
        },
        "id": "-qpmWhgJxn4x",
        "outputId": "b599936e-d682-4cf7-b7f0-a0986de2edb3"
      },
      "source": [
        "Copies_sold['Copies_sold'].head(5)"
      ],
      "execution_count": 26,
      "outputs": [
        {
          "output_type": "execute_result",
          "data": {
            "text/plain": [
              "0     100000\n",
              "20    100000\n",
              "16    100000\n",
              "8     100000\n",
              "28    100000\n",
              "Name: Copies_sold, dtype: int64"
            ]
          },
          "metadata": {
            "tags": []
          },
          "execution_count": 26
        }
      ]
    },
    {
      "cell_type": "markdown",
      "metadata": {
        "id": "aLzg7_Y-zE4X"
      },
      "source": [
        "Sample of using matplotlib to make plots"
      ]
    },
    {
      "cell_type": "code",
      "metadata": {
        "id": "7LBni4XrzJRm"
      },
      "source": [
        "import matplotlib.pyplot as plt"
      ],
      "execution_count": 27,
      "outputs": []
    },
    {
      "cell_type": "markdown",
      "metadata": {
        "id": "ET-jjih3zQgm"
      },
      "source": [
        "#Use the plot method to draw a plot"
      ]
    },
    {
      "cell_type": "markdown",
      "metadata": {
        "id": "Gbznn9FezZ75"
      },
      "source": [
        "Set the argument kind to barh to plot a bar"
      ]
    },
    {
      "cell_type": "code",
      "metadata": {
        "colab": {
          "base_uri": "https://localhost:8080/",
          "height": 265
        },
        "id": "0J_4YVGty3_g",
        "outputId": "9b1d03b1-73ee-4db0-c538-f99bb7c4e1b8"
      },
      "source": [
        "Copies_sold['Copies_sold'].head(10).plot(kind=\"barh\")\n",
        "plt.show()"
      ],
      "execution_count": 28,
      "outputs": [
        {
          "output_type": "display_data",
          "data": {
            "image/png": "[encoded data removed]",
            "text/plain": [
              "<Figure size 432x288 with 1 Axes>"
            ]
          },
          "metadata": {
            "tags": [],
            "needs_background": "light"
          }
        }
      ]
    },
    {
      "cell_type": "markdown",
      "metadata": {
        "id": "pnbtBv8zz74g"
      },
      "source": [
        "Use describe to get statistical information on the data\n"
      ]
    },
    {
      "cell_type": "code",
      "metadata": {
        "colab": {
          "base_uri": "https://localhost:8080/",
          "height": 294
        },
        "id": "yiSHP7ppzut8",
        "outputId": "ee20d5a2-cd71-4f12-9dda-f8e9a628882e"
      },
      "source": [
        "music_albums.describe()"
      ],
      "execution_count": 29,
      "outputs": [
        {
          "output_type": "execute_result",
          "data": {
            "text/html": [
              "<div>\n",
              "<style scoped>\n",
              "    .dataframe tbody tr th:only-of-type {\n",
              "        vertical-align: middle;\n",
              "    }\n",
              "\n",
              "    .dataframe tbody tr th {\n",
              "        vertical-align: top;\n",
              "    }\n",
              "\n",
              "    .dataframe thead th {\n",
              "        text-align: right;\n",
              "    }\n",
              "</style>\n",
              "<table border=\"1\" class=\"dataframe\">\n",
              "  <thead>\n",
              "    <tr style=\"text-align: right;\">\n",
              "      <th></th>\n",
              "      <th>Year</th>\n",
              "      <th>Price</th>\n",
              "      <th>Copies_sold</th>\n",
              "    </tr>\n",
              "  </thead>\n",
              "  <tbody>\n",
              "    <tr>\n",
              "      <th>count</th>\n",
              "      <td>32.000000</td>\n",
              "      <td>32.00000</td>\n",
              "      <td>32.000000</td>\n",
              "    </tr>\n",
              "    <tr>\n",
              "      <th>mean</th>\n",
              "      <td>2005.500000</td>\n",
              "      <td>11.50000</td>\n",
              "      <td>275000.000000</td>\n",
              "    </tr>\n",
              "    <tr>\n",
              "      <th>std</th>\n",
              "      <td>9.380832</td>\n",
              "      <td>2.09454</td>\n",
              "      <td>150268.576759</td>\n",
              "    </tr>\n",
              "    <tr>\n",
              "      <th>min</th>\n",
              "      <td>1990.000000</td>\n",
              "      <td>10.00000</td>\n",
              "      <td>100000.000000</td>\n",
              "    </tr>\n",
              "    <tr>\n",
              "      <th>25%</th>\n",
              "      <td>1997.750000</td>\n",
              "      <td>10.00000</td>\n",
              "      <td>175000.000000</td>\n",
              "    </tr>\n",
              "    <tr>\n",
              "      <th>50%</th>\n",
              "      <td>2005.500000</td>\n",
              "      <td>10.50000</td>\n",
              "      <td>250000.000000</td>\n",
              "    </tr>\n",
              "    <tr>\n",
              "      <th>75%</th>\n",
              "      <td>2013.250000</td>\n",
              "      <td>12.00000</td>\n",
              "      <td>350000.000000</td>\n",
              "    </tr>\n",
              "    <tr>\n",
              "      <th>max</th>\n",
              "      <td>2021.000000</td>\n",
              "      <td>15.00000</td>\n",
              "      <td>500000.000000</td>\n",
              "    </tr>\n",
              "  </tbody>\n",
              "</table>\n",
              "</div>"
            ],
            "text/plain": [
              "              Year     Price    Copies_sold\n",
              "count    32.000000  32.00000      32.000000\n",
              "mean   2005.500000  11.50000  275000.000000\n",
              "std       9.380832   2.09454  150268.576759\n",
              "min    1990.000000  10.00000  100000.000000\n",
              "25%    1997.750000  10.00000  175000.000000\n",
              "50%    2005.500000  10.50000  250000.000000\n",
              "75%    2013.250000  12.00000  350000.000000\n",
              "max    2021.000000  15.00000  500000.000000"
            ]
          },
          "metadata": {
            "tags": []
          },
          "execution_count": 29
        }
      ]
    },
    {
      "cell_type": "code",
      "metadata": {
        "id": "vDi00POB0Exs"
      },
      "source": [
        ""
      ],
      "execution_count": null,
      "outputs": []
    }
  ]
}