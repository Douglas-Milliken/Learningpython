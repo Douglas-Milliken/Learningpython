{
  "nbformat": 4,
  "nbformat_minor": 0,
  "metadata": {
    "colab": {
      "name": "learningpython2_dates_times.ipynb",
      "provenance": [],
      "authorship_tag": "ABX9TyP0pHJwbLK0crydSUdYR5wF",
      "include_colab_link": true
    },
    "kernelspec": {
      "name": "python3",
      "display_name": "Python 3"
    },
    "language_info": {
      "name": "python"
    }
  },
  "cells": [
    {
      "cell_type": "markdown",
      "metadata": {
        "id": "view-in-github",
        "colab_type": "text"
      },
      "source": [
        "<a href=\"https://colab.research.google.com/github/Douglas-Milliken/Learningpython/blob/main/learningpython2_dates_times.ipynb\" target=\"_parent\"><img src=\"https://colab.research.google.com/assets/colab-badge.svg\" alt=\"Open In Colab\"/></a>"
      ]
    },
    {
      "cell_type": "markdown",
      "metadata": {
        "id": "7Q9PSkjenOlT"
      },
      "source": [
        "# Example file for working with date information"
      ]
    },
    {
      "cell_type": "code",
      "metadata": {
        "id": "IZNSmyPCnXQd"
      },
      "source": [
        "from datetime import date\n",
        "from datetime import time\n",
        "from datetime import datetime"
      ],
      "execution_count": 1,
      "outputs": []
    },
    {
      "cell_type": "markdown",
      "metadata": {
        "id": "V7VLP9mnncYD"
      },
      "source": [
        "  ## DATE OBJECTS\n",
        "  # Get today's date from the simple today() method from the date class"
      ]
    },
    {
      "cell_type": "code",
      "metadata": {
        "colab": {
          "base_uri": "https://localhost:8080/"
        },
        "id": "asIPBqAGnlrc",
        "outputId": "3a6d3286-4198-45f6-ad4b-1d2d7596537e"
      },
      "source": [
        "  today = date.today()\n",
        "  print (\"Today's date is \", today)"
      ],
      "execution_count": 2,
      "outputs": [
        {
          "output_type": "stream",
          "text": [
            "Today's date is  2021-03-21\n"
          ],
          "name": "stdout"
        }
      ]
    },
    {
      "cell_type": "markdown",
      "metadata": {
        "id": "qltJUFg5n1Xm"
      },
      "source": [
        "# print out the date's individual components"
      ]
    },
    {
      "cell_type": "code",
      "metadata": {
        "colab": {
          "base_uri": "https://localhost:8080/"
        },
        "id": "bve6U3vCnUsO",
        "outputId": "f14867e5-55cd-422b-a936-a7a9832246ed"
      },
      "source": [
        "print (\"Date Components: \", today.day, today.month, today.year)"
      ],
      "execution_count": 3,
      "outputs": [
        {
          "output_type": "stream",
          "text": [
            "Date Components:  21 3 2021\n"
          ],
          "name": "stdout"
        }
      ]
    },
    {
      "cell_type": "markdown",
      "metadata": {
        "id": "HsbbjUG_n-l5"
      },
      "source": [
        "# retrieve today's weekday (0=Monday, 6=Sunday)"
      ]
    },
    {
      "cell_type": "code",
      "metadata": {
        "colab": {
          "base_uri": "https://localhost:8080/"
        },
        "id": "F84jrSKloB9j",
        "outputId": "147dc9e7-0004-4b91-b1fd-31452736a7cb"
      },
      "source": [
        "  print (\"Today's Weekday #: \", today.weekday())\n",
        "  days = [\"monday\",\"tuesday\",\"wednesday\",\"thursday\",\"friday\",\"saturday\",\"sunday\"]\n",
        "  print (\"Which is a \" + days[today.weekday()])"
      ],
      "execution_count": 4,
      "outputs": [
        {
          "output_type": "stream",
          "text": [
            "Today's Weekday #:  6\n",
            "Which is a sunday\n"
          ],
          "name": "stdout"
        }
      ]
    },
    {
      "cell_type": "markdown",
      "metadata": {
        "id": "B1TpNqYWoG-O"
      },
      "source": [
        " ## DATETIME OBJECTS\n",
        "  # Get today's date from the datetime class"
      ]
    },
    {
      "cell_type": "code",
      "metadata": {
        "colab": {
          "base_uri": "https://localhost:8080/"
        },
        "id": "K-HCpUAgoJl_",
        "outputId": "5ef021d0-3c04-4327-ce79-41a35f0152f1"
      },
      "source": [
        "today = datetime.now()\n",
        "print  (\"The current date and time is \", today)"
      ],
      "execution_count": 6,
      "outputs": [
        {
          "output_type": "stream",
          "text": [
            "The current date and time is  2021-03-21 02:32:54.350456\n"
          ],
          "name": "stdout"
        }
      ]
    },
    {
      "cell_type": "markdown",
      "metadata": {
        "id": "JtHe73pDoOQ4"
      },
      "source": [
        "# Get the current time"
      ]
    },
    {
      "cell_type": "code",
      "metadata": {
        "colab": {
          "base_uri": "https://localhost:8080/"
        },
        "id": "JWYZSeuVoSQD",
        "outputId": "815d4e8a-3cc2-4e40-dc19-ed70fb9f6ff6"
      },
      "source": [
        "t = datetime.time(datetime.now())\n",
        "print (\"The current time is \", t)\n"
      ],
      "execution_count": 10,
      "outputs": [
        {
          "output_type": "stream",
          "text": [
            "The current time is  02:33:52.376540\n"
          ],
          "name": "stdout"
        }
      ]
    },
    {
      "cell_type": "code",
      "metadata": {
        "id": "6AfH2Fjsn7_3"
      },
      "source": [
        ""
      ],
      "execution_count": null,
      "outputs": []
    },
    {
      "cell_type": "markdown",
      "metadata": {
        "id": "33PJHzg2olJ4"
      },
      "source": [
        "# Formatting\n"
      ]
    },
    {
      "cell_type": "markdown",
      "metadata": {
        "id": "XpypOgRfoqzq"
      },
      "source": [
        "# Example file for formatting time and date output"
      ]
    },
    {
      "cell_type": "code",
      "metadata": {
        "id": "PhylyONIpltw"
      },
      "source": [
        "from datetime import datetime\n",
        "\n",
        "def main():\n",
        "  # Times and dates can be formatted using a set of predefined string\n",
        "  # control codes \n",
        "  now = datetime.now() # get the current date and time"
      ],
      "execution_count": 15,
      "outputs": []
    },
    {
      "cell_type": "markdown",
      "metadata": {
        "id": "0umXDFb8o9n3"
      },
      "source": [
        " #### Date Formatting ####"
      ]
    },
    {
      "cell_type": "code",
      "metadata": {
        "colab": {
          "base_uri": "https://localhost:8080/",
          "height": 131
        },
        "id": "uCWuzFX4oozd",
        "outputId": "a918ec1b-8261-446b-d39b-df5ba5af8454"
      },
      "source": [
        "# %y/%Y - Year, %a/%A - weekday, %b/%B - month, %d - day of month\n",
        "  print (now.strftime(\"The current year is: %Y\")) # full year with century\n",
        "  print (now.strftime(\"%a, %d %B, %y\")) # abbreviated day, num, full month, abbreviated year\n",
        "  \n",
        "  # %c - locale's date and time, %x - locale's date, %X - locale's time\n",
        "  print (now.strftime(\"Locale date and time: %c\"))\n",
        "  print (now.strftime(\"Locale date: %x\"))\n",
        "  print (now.strftime(\"Locale time: %X\"))"
      ],
      "execution_count": 16,
      "outputs": [
        {
          "output_type": "error",
          "ename": "IndentationError",
          "evalue": "ignored",
          "traceback": [
            "\u001b[0;36m  File \u001b[0;32m\"<ipython-input-16-6cac0c3c4cf0>\"\u001b[0;36m, line \u001b[0;32m2\u001b[0m\n\u001b[0;31m    print (now.strftime(\"The current year is: %Y\")) # full year with century\u001b[0m\n\u001b[0m    ^\u001b[0m\n\u001b[0;31mIndentationError\u001b[0m\u001b[0;31m:\u001b[0m unexpected indent\n"
          ]
        }
      ]
    },
    {
      "cell_type": "markdown",
      "metadata": {
        "id": "fRk7kkefptkP"
      },
      "source": [
        "#### Time Formatting ####"
      ]
    },
    {
      "cell_type": "code",
      "metadata": {
        "colab": {
          "base_uri": "https://localhost:8080/",
          "height": 201
        },
        "id": "Xgt1crTbpqIn",
        "outputId": "7e19a949-2d93-4e9d-dc52-b044e9769074"
      },
      "source": [
        "  # %I/%H - 12/24 Hour, %M - minute, %S - second, %p - locale's AM/PM\n",
        "  print (now.strftime(\"Current time: %I:%M:%S %p\")) # 12-Hour:Minute:Second:AM\n",
        "  print (now.strftime(\"24-hour time: %H:%M\")) # 24-Hour:Minute"
      ],
      "execution_count": 17,
      "outputs": [
        {
          "output_type": "error",
          "ename": "NameError",
          "evalue": "ignored",
          "traceback": [
            "\u001b[0;31m---------------------------------------------------------------------------\u001b[0m",
            "\u001b[0;31mNameError\u001b[0m                                 Traceback (most recent call last)",
            "\u001b[0;32m<ipython-input-17-6b33d6d2b3fb>\u001b[0m in \u001b[0;36m<module>\u001b[0;34m()\u001b[0m\n\u001b[1;32m      1\u001b[0m \u001b[0;31m# %I/%H - 12/24 Hour, %M - minute, %S - second, %p - locale's AM/PM\u001b[0m\u001b[0;34m\u001b[0m\u001b[0;34m\u001b[0m\u001b[0;34m\u001b[0m\u001b[0m\n\u001b[0;32m----> 2\u001b[0;31m \u001b[0mprint\u001b[0m \u001b[0;34m(\u001b[0m\u001b[0mnow\u001b[0m\u001b[0;34m.\u001b[0m\u001b[0mstrftime\u001b[0m\u001b[0;34m(\u001b[0m\u001b[0;34m\"Current time: %I:%M:%S %p\"\u001b[0m\u001b[0;34m)\u001b[0m\u001b[0;34m)\u001b[0m \u001b[0;31m# 12-Hour:Minute:Second:AM\u001b[0m\u001b[0;34m\u001b[0m\u001b[0;34m\u001b[0m\u001b[0m\n\u001b[0m\u001b[1;32m      3\u001b[0m \u001b[0mprint\u001b[0m \u001b[0;34m(\u001b[0m\u001b[0mnow\u001b[0m\u001b[0;34m.\u001b[0m\u001b[0mstrftime\u001b[0m\u001b[0;34m(\u001b[0m\u001b[0;34m\"24-hour time: %H:%M\"\u001b[0m\u001b[0;34m)\u001b[0m\u001b[0;34m)\u001b[0m \u001b[0;31m# 24-Hour:Minute\u001b[0m\u001b[0;34m\u001b[0m\u001b[0;34m\u001b[0m\u001b[0m\n",
            "\u001b[0;31mNameError\u001b[0m: name 'now' is not defined"
          ]
        }
      ]
    },
    {
      "cell_type": "markdown",
      "metadata": {
        "id": "Lju8Phoyp8li"
      },
      "source": [
        "#timedelta objects"
      ]
    },
    {
      "cell_type": "code",
      "metadata": {
        "id": "EgqqVuaJqCBH"
      },
      "source": [
        "from datetime import date\n",
        "from datetime import time\n",
        "from datetime import datetime\n",
        "from datetime import timedelta"
      ],
      "execution_count": 18,
      "outputs": []
    },
    {
      "cell_type": "markdown",
      "metadata": {
        "id": "Xrz9juPOqEyV"
      },
      "source": [
        "# construct a basic timedelta and print it"
      ]
    },
    {
      "cell_type": "code",
      "metadata": {
        "colab": {
          "base_uri": "https://localhost:8080/"
        },
        "id": "41X9l2H8p_lh",
        "outputId": "82bfaf41-d3c8-4cae-bd92-27cbb9a5051c"
      },
      "source": [
        "print (timedelta(days=365, hours=5, minutes=1))"
      ],
      "execution_count": 19,
      "outputs": [
        {
          "output_type": "stream",
          "text": [
            "365 days, 5:01:00\n"
          ],
          "name": "stdout"
        }
      ]
    },
    {
      "cell_type": "markdown",
      "metadata": {
        "id": "TiC9Ge6_qI4X"
      },
      "source": [
        "# print today's date"
      ]
    },
    {
      "cell_type": "code",
      "metadata": {
        "colab": {
          "base_uri": "https://localhost:8080/"
        },
        "id": "Uiy9Dy18qH9F",
        "outputId": "ba419f19-19df-41aa-8d54-72192840d802"
      },
      "source": [
        "now = datetime.now()\n",
        "print (\"today is: \" + str(now))"
      ],
      "execution_count": 20,
      "outputs": [
        {
          "output_type": "stream",
          "text": [
            "today is: 2021-03-21 02:41:36.879286\n"
          ],
          "name": "stdout"
        }
      ]
    },
    {
      "cell_type": "markdown",
      "metadata": {
        "id": "sbqnZMCJqOml"
      },
      "source": [
        "# print today's date one year from now"
      ]
    },
    {
      "cell_type": "code",
      "metadata": {
        "colab": {
          "base_uri": "https://localhost:8080/"
        },
        "id": "K8m-xzs1qMox",
        "outputId": "10982ca1-e4ad-47ac-da0e-3c13fa84ade5"
      },
      "source": [
        "print (\"one year from now it will be: \" + str(now + timedelta(days=365)))"
      ],
      "execution_count": 21,
      "outputs": [
        {
          "output_type": "stream",
          "text": [
            "one year from now it will be: 2022-03-21 02:41:36.879286\n"
          ],
          "name": "stdout"
        }
      ]
    },
    {
      "cell_type": "markdown",
      "metadata": {
        "id": "MyO-Yl8iqTtw"
      },
      "source": [
        "# create a timedelta that uses more than one argument"
      ]
    },
    {
      "cell_type": "code",
      "metadata": {
        "colab": {
          "base_uri": "https://localhost:8080/"
        },
        "id": "FdcWZ9GeqRMR",
        "outputId": "d3d76f80-ae57-4d19-b2d1-e6371d2d3656"
      },
      "source": [
        "print (\"in two weeks and 3 days it will be: \" + str(now + timedelta(weeks=2, days=3)))"
      ],
      "execution_count": 22,
      "outputs": [
        {
          "output_type": "stream",
          "text": [
            "in two weeks and 3 days it will be: 2021-04-07 02:41:36.879286\n"
          ],
          "name": "stdout"
        }
      ]
    },
    {
      "cell_type": "markdown",
      "metadata": {
        "id": "UuXivnQWqZXO"
      },
      "source": [
        "# calculate the date 1 week ago, formatted as a string"
      ]
    },
    {
      "cell_type": "code",
      "metadata": {
        "colab": {
          "base_uri": "https://localhost:8080/"
        },
        "id": "BeZySZx7qXQ-",
        "outputId": "eb9df548-c7d0-4ee4-aca9-32ba19f6cac8"
      },
      "source": [
        "t = datetime.now() - timedelta(weeks=1)\n",
        "s = t.strftime(\"%A %B %d, %Y\")\n",
        "print (\"one week ago it was \" + s)"
      ],
      "execution_count": 23,
      "outputs": [
        {
          "output_type": "stream",
          "text": [
            "one week ago it was Sunday March 14, 2021\n"
          ],
          "name": "stdout"
        }
      ]
    },
    {
      "cell_type": "markdown",
      "metadata": {
        "id": "L2sf9PkHqejs"
      },
      "source": [
        "### How many days until April Fools' Day?"
      ]
    },
    {
      "cell_type": "code",
      "metadata": {
        "id": "dqLybgOWqcTd"
      },
      "source": [
        "today = date.today()  # get today's date\n",
        "afd = date(today.year, 4, 1) "
      ],
      "execution_count": 24,
      "outputs": []
    },
    {
      "cell_type": "markdown",
      "metadata": {
        "id": "K2ANfd9Zqjdo"
      },
      "source": [
        " # get April Fool's for the same year\n",
        "# use date comparison to see if April Fool's has already gone for this year\n",
        "# if it has, use the replace() function to get the date for next year"
      ]
    },
    {
      "cell_type": "code",
      "metadata": {
        "id": "RsSF-Je9qiPS"
      },
      "source": [
        "if afd < today:\n",
        "  print (\"April Fool's day already went by %d days ago\" % ((today-afd).days))\n",
        "  afd = afd.replace(year=today.year + 1)  # if so, get the date for next year"
      ],
      "execution_count": 25,
      "outputs": []
    },
    {
      "cell_type": "markdown",
      "metadata": {
        "id": "8VRzWFpDqyoL"
      },
      "source": [
        "# Now calculate the amount of time until April Fool's Day "
      ]
    },
    {
      "cell_type": "code",
      "metadata": {
        "colab": {
          "base_uri": "https://localhost:8080/"
        },
        "id": "XTKA5nLcqwef",
        "outputId": "9b12dbce-ff32-4d3f-8d7d-fe8c4e689972"
      },
      "source": [
        "time_to_afd = afd - today\n",
        "print (\"It's just\", time_to_afd.days, \"days until next April Fools' Day!\")"
      ],
      "execution_count": 26,
      "outputs": [
        {
          "output_type": "stream",
          "text": [
            "It's just 11 days until next April Fools' Day!\n"
          ],
          "name": "stdout"
        }
      ]
    },
    {
      "cell_type": "markdown",
      "metadata": {
        "id": "wBDUA9xGq3xn"
      },
      "source": [
        "# Calendars\n"
      ]
    },
    {
      "cell_type": "markdown",
      "metadata": {
        "id": "KimH4OiKq_Hi"
      },
      "source": [
        "# Example file for working with Calendars"
      ]
    },
    {
      "cell_type": "code",
      "metadata": {
        "id": "8BQ7mqRnq-Xy"
      },
      "source": [
        "import calendar"
      ],
      "execution_count": 27,
      "outputs": []
    },
    {
      "cell_type": "markdown",
      "metadata": {
        "id": "DZ0yuV_grECZ"
      },
      "source": [
        "# create a plain text calendar"
      ]
    },
    {
      "cell_type": "code",
      "metadata": {
        "colab": {
          "base_uri": "https://localhost:8080/"
        },
        "id": "DVpr8wXtrBsi",
        "outputId": "02f3b7f4-a1c1-4870-dbf2-c94e90cbfefa"
      },
      "source": [
        "c = calendar.TextCalendar(calendar.SUNDAY)\n",
        "str = c.formatmonth(2017, 1, 0, 0)\n",
        "print (str)"
      ],
      "execution_count": 28,
      "outputs": [
        {
          "output_type": "stream",
          "text": [
            "    January 2017\n",
            "Su Mo Tu We Th Fr Sa\n",
            " 1  2  3  4  5  6  7\n",
            " 8  9 10 11 12 13 14\n",
            "15 16 17 18 19 20 21\n",
            "22 23 24 25 26 27 28\n",
            "29 30 31\n",
            "\n"
          ],
          "name": "stdout"
        }
      ]
    },
    {
      "cell_type": "markdown",
      "metadata": {
        "id": "DZiEbJQNrIwZ"
      },
      "source": [
        "# create an HTML formatted calendar"
      ]
    },
    {
      "cell_type": "code",
      "metadata": {
        "colab": {
          "base_uri": "https://localhost:8080/"
        },
        "id": "p_aIXRG5rGwC",
        "outputId": "073314dd-82c3-4780-fa39-0f7ed7e431f2"
      },
      "source": [
        "hc = calendar.HTMLCalendar(calendar.SUNDAY)\n",
        "str = hc.formatmonth(2017, 1)\n",
        "print (str)"
      ],
      "execution_count": 29,
      "outputs": [
        {
          "output_type": "stream",
          "text": [
            "<table border=\"0\" cellpadding=\"0\" cellspacing=\"0\" class=\"month\">\n",
            "<tr><th colspan=\"7\" class=\"month\">January 2017</th></tr>\n",
            "<tr><th class=\"sun\">Sun</th><th class=\"mon\">Mon</th><th class=\"tue\">Tue</th><th class=\"wed\">Wed</th><th class=\"thu\">Thu</th><th class=\"fri\">Fri</th><th class=\"sat\">Sat</th></tr>\n",
            "<tr><td class=\"sun\">1</td><td class=\"mon\">2</td><td class=\"tue\">3</td><td class=\"wed\">4</td><td class=\"thu\">5</td><td class=\"fri\">6</td><td class=\"sat\">7</td></tr>\n",
            "<tr><td class=\"sun\">8</td><td class=\"mon\">9</td><td class=\"tue\">10</td><td class=\"wed\">11</td><td class=\"thu\">12</td><td class=\"fri\">13</td><td class=\"sat\">14</td></tr>\n",
            "<tr><td class=\"sun\">15</td><td class=\"mon\">16</td><td class=\"tue\">17</td><td class=\"wed\">18</td><td class=\"thu\">19</td><td class=\"fri\">20</td><td class=\"sat\">21</td></tr>\n",
            "<tr><td class=\"sun\">22</td><td class=\"mon\">23</td><td class=\"tue\">24</td><td class=\"wed\">25</td><td class=\"thu\">26</td><td class=\"fri\">27</td><td class=\"sat\">28</td></tr>\n",
            "<tr><td class=\"sun\">29</td><td class=\"mon\">30</td><td class=\"tue\">31</td><td class=\"noday\">&nbsp;</td><td class=\"noday\">&nbsp;</td><td class=\"noday\">&nbsp;</td><td class=\"noday\">&nbsp;</td></tr>\n",
            "</table>\n",
            "\n"
          ],
          "name": "stdout"
        }
      ]
    },
    {
      "cell_type": "markdown",
      "metadata": {
        "id": "AliwbC9prNQg"
      },
      "source": [
        "# loop over the days of a month\n",
        "# zeroes mean that the day of the week is in an overlapping month"
      ]
    },
    {
      "cell_type": "code",
      "metadata": {
        "colab": {
          "base_uri": "https://localhost:8080/"
        },
        "id": "xhYdSS9CrLJI",
        "outputId": "7d338530-3d55-42ef-aea6-3ebbbe09cc09"
      },
      "source": [
        "for i in c.itermonthdays(2017, 8):\n",
        "  print (i)"
      ],
      "execution_count": 30,
      "outputs": [
        {
          "output_type": "stream",
          "text": [
            "0\n",
            "0\n",
            "1\n",
            "2\n",
            "3\n",
            "4\n",
            "5\n",
            "6\n",
            "7\n",
            "8\n",
            "9\n",
            "10\n",
            "11\n",
            "12\n",
            "13\n",
            "14\n",
            "15\n",
            "16\n",
            "17\n",
            "18\n",
            "19\n",
            "20\n",
            "21\n",
            "22\n",
            "23\n",
            "24\n",
            "25\n",
            "26\n",
            "27\n",
            "28\n",
            "29\n",
            "30\n",
            "31\n",
            "0\n",
            "0\n"
          ],
          "name": "stdout"
        }
      ]
    },
    {
      "cell_type": "markdown",
      "metadata": {
        "id": "vhosmaEWrSNf"
      },
      "source": [
        "# The Calendar module provides useful utilities for the given locale,\n",
        "# such as the names of days and months in both full and abbreviated forms"
      ]
    },
    {
      "cell_type": "code",
      "metadata": {
        "colab": {
          "base_uri": "https://localhost:8080/"
        },
        "id": "JnDJaxONrRPK",
        "outputId": "c027dc99-ada3-4e7f-ef2e-f6ff7b97512d"
      },
      "source": [
        "for name in calendar.month_name:\n",
        "  print (name)\n",
        "\n",
        "for day in calendar.day_name:\n",
        "  print (day)"
      ],
      "execution_count": 31,
      "outputs": [
        {
          "output_type": "stream",
          "text": [
            "\n",
            "January\n",
            "February\n",
            "March\n",
            "April\n",
            "May\n",
            "June\n",
            "July\n",
            "August\n",
            "September\n",
            "October\n",
            "November\n",
            "December\n",
            "Monday\n",
            "Tuesday\n",
            "Wednesday\n",
            "Thursday\n",
            "Friday\n",
            "Saturday\n",
            "Sunday\n"
          ],
          "name": "stdout"
        }
      ]
    },
    {
      "cell_type": "markdown",
      "metadata": {
        "id": "aD5GzsEHrXlo"
      },
      "source": [
        "# Calculate days based on a rule: For example, consider\n",
        "# a team meeting on the first Friday of every month.\n",
        "# To figure out what days that would be for each month,\n",
        "# we can use this script:"
      ]
    },
    {
      "cell_type": "code",
      "metadata": {
        "colab": {
          "base_uri": "https://localhost:8080/"
        },
        "id": "qJR7TdTrrWfD",
        "outputId": "0bb952f5-d7e1-423b-a337-1a7ad646145e"
      },
      "source": [
        "print (\"Team meetings will be on:\")\n",
        "for m in range(1,13):\n",
        "  # returns an array of weeks that represent the month\n",
        "  cal = calendar.monthcalendar(2017, m)\n",
        "  # The first Friday has to be within the first two weeks\n",
        "  weekone = cal[0]\n",
        "  weektwo = cal[1]\n",
        "   \n",
        "  if weekone[calendar.FRIDAY] != 0:\n",
        "    meetday = weekone[calendar.FRIDAY]\n",
        "  else:\n",
        "    # if the first friday isn't in the first week, it must be in the second\n",
        "    meetday = weektwo[calendar.FRIDAY]\n",
        "      \n",
        "  print (\"%10s %2d\" % (calendar.month_name[m], meetday))\n"
      ],
      "execution_count": 34,
      "outputs": [
        {
          "output_type": "stream",
          "text": [
            "Team meetings will be on:\n",
            "   January  6\n",
            "  February  3\n",
            "     March  3\n",
            "     April  7\n",
            "       May  5\n",
            "      June  2\n",
            "      July  7\n",
            "    August  4\n",
            " September  1\n",
            "   October  6\n",
            "  November  3\n",
            "  December  1\n"
          ],
          "name": "stdout"
        }
      ]
    }
  ]
}