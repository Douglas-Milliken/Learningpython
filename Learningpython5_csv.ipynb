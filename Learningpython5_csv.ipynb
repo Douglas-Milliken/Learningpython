{
  "nbformat": 4,
  "nbformat_minor": 0,
  "metadata": {
    "colab": {
      "name": "Learningpython5_csv.ipynb",
      "provenance": [],
      "collapsed_sections": [],
      "authorship_tag": "ABX9TyOZCLThBbupppz/hU1o9ZUG",
      "include_colab_link": true
    },
    "kernelspec": {
      "name": "python3",
      "display_name": "Python 3"
    },
    "language_info": {
      "name": "python"
    }
  },
  "cells": [
    {
      "cell_type": "markdown",
      "metadata": {
        "id": "view-in-github",
        "colab_type": "text"
      },
      "source": [
        "<a href=\"https://colab.research.google.com/github/Douglas-Milliken/Learningpython/blob/main/Learningpython5_csv.ipynb\" target=\"_parent\"><img src=\"https://colab.research.google.com/assets/colab-badge.svg\" alt=\"Open In Colab\"/></a>"
      ]
    },
    {
      "cell_type": "markdown",
      "metadata": {
        "id": "J-AFWfgm3lBg"
      },
      "source": [
        "#Load & convert data from CSV file using Python built-in csv module"
      ]
    },
    {
      "cell_type": "code",
      "metadata": {
        "colab": {
          "base_uri": "https://localhost:8080/"
        },
        "id": "_eAnNGSx2w_K",
        "outputId": "6e55a7e4-8a14-4cf8-f73c-7e67aaf9e9a5"
      },
      "source": [
        "import bz2\n",
        "import csv\n",
        "from collections import namedtuple\n",
        "from datetime import datetime\n",
        "\n",
        "Column = namedtuple('Column', 'src dest convert')\n",
        "\n",
        "\n",
        "def parse_timestamp(text):\n",
        "    return datetime.strptime(text, '%Y-%m-%d %H:%M:%S')\n",
        "\n",
        "\n",
        "columns = [\n",
        "    Column('VendorID', 'vendor_id', int),\n",
        "    Column('passenger_count', 'num_passengers', int),\n",
        "    Column('tip_amount', 'tip', float),\n",
        "    Column('total_amount', 'price', float),\n",
        "    Column('tpep_dropoff_datetime', 'dropoff_time', parse_timestamp),\n",
        "    Column('tpep_pickup_datetime', 'pickup_time', parse_timestamp),\n",
        "    Column('trip_distance', 'distance', float),\n",
        "]\n",
        "\n",
        "\n",
        "def iter_records(file_name):\n",
        "    with bz2.open(file_name, 'rt') as fp:\n",
        "        reader = csv.DictReader(fp)\n",
        "        for csv_record in reader:\n",
        "            record = {}\n",
        "            for col in columns:\n",
        "                value = csv_record[col.src]\n",
        "                record[col.dest] = col.convert(value)\n",
        "            yield record\n",
        "\n",
        "\n",
        "def example():\n",
        "    from pprint import pprint\n",
        "\n",
        "    for i, record in enumerate(iter_records('taxi.csv.bz2')):\n",
        "        if i >= 10:\n",
        "            break\n",
        "        pprint(record)\n",
        "\n",
        "\n",
        "example()"
      ],
      "execution_count": 3,
      "outputs": [
        {
          "output_type": "stream",
          "text": [
            "{'distance': 2.57,\n",
            " 'dropoff_time': datetime.datetime(2018, 11, 1, 6, 43, 24),\n",
            " 'num_passengers': 1,\n",
            " 'pickup_time': datetime.datetime(2018, 10, 31, 7, 10, 55),\n",
            " 'price': 20.54,\n",
            " 'tip': 4.74,\n",
            " 'vendor_id': 2}\n",
            "{'distance': 3.58,\n",
            " 'dropoff_time': datetime.datetime(2018, 10, 31, 16, 50, 10),\n",
            " 'num_passengers': 5,\n",
            " 'pickup_time': datetime.datetime(2018, 10, 31, 16, 38, 25),\n",
            " 'price': 13.8,\n",
            " 'tip': 0.0,\n",
            " 'vendor_id': 2}\n",
            "{'distance': 2.39,\n",
            " 'dropoff_time': datetime.datetime(2018, 10, 31, 20, 31, 47),\n",
            " 'num_passengers': 1,\n",
            " 'pickup_time': datetime.datetime(2018, 10, 31, 20, 23, 41),\n",
            " 'price': 11.3,\n",
            " 'tip': 1.0,\n",
            " 'vendor_id': 2}\n",
            "{'distance': 0.5,\n",
            " 'dropoff_time': datetime.datetime(2018, 10, 31, 22, 48, 28),\n",
            " 'num_passengers': 1,\n",
            " 'pickup_time': datetime.datetime(2018, 10, 31, 22, 44, 24),\n",
            " 'price': 5.8,\n",
            " 'tip': 0.0,\n",
            " 'vendor_id': 2}\n",
            "{'distance': 1.81,\n",
            " 'dropoff_time': datetime.datetime(2018, 10, 31, 23, 35, 30),\n",
            " 'num_passengers': 1,\n",
            " 'pickup_time': datetime.datetime(2018, 10, 31, 23, 22, 18),\n",
            " 'price': 13.56,\n",
            " 'tip': 2.26,\n",
            " 'vendor_id': 2}\n",
            "{'distance': 7.91,\n",
            " 'dropoff_time': datetime.datetime(2018, 10, 31, 23, 44, 33),\n",
            " 'num_passengers': 1,\n",
            " 'pickup_time': datetime.datetime(2018, 10, 31, 23, 27, 39),\n",
            " 'price': 24.3,\n",
            " 'tip': 0.0,\n",
            " 'vendor_id': 2}\n",
            "{'distance': 2.24,\n",
            " 'dropoff_time': datetime.datetime(2018, 10, 31, 23, 46, 52),\n",
            " 'num_passengers': 1,\n",
            " 'pickup_time': datetime.datetime(2018, 10, 31, 23, 40, 55),\n",
            " 'price': 11.62,\n",
            " 'tip': 2.32,\n",
            " 'vendor_id': 2}\n",
            "{'distance': 2.31,\n",
            " 'dropoff_time': datetime.datetime(2018, 10, 31, 23, 56, 44),\n",
            " 'num_passengers': 1,\n",
            " 'pickup_time': datetime.datetime(2018, 10, 31, 23, 45, 53),\n",
            " 'price': 11.3,\n",
            " 'tip': 0.0,\n",
            " 'vendor_id': 2}\n",
            "{'distance': 0.68,\n",
            " 'dropoff_time': datetime.datetime(2018, 10, 31, 23, 52, 54),\n",
            " 'num_passengers': 1,\n",
            " 'pickup_time': datetime.datetime(2018, 10, 31, 23, 46, 42),\n",
            " 'price': 6.8,\n",
            " 'tip': 0.0,\n",
            " 'vendor_id': 2}\n",
            "{'distance': 1.65,\n",
            " 'dropoff_time': datetime.datetime(2018, 11, 1, 0, 10, 33),\n",
            " 'num_passengers': 1,\n",
            " 'pickup_time': datetime.datetime(2018, 10, 31, 23, 47, 30),\n",
            " 'price': 17.8,\n",
            " 'tip': 2.0,\n",
            " 'vendor_id': 2}\n"
          ],
          "name": "stdout"
        }
      ]
    },
    {
      "cell_type": "markdown",
      "metadata": {
        "id": "APzTSB4s4-3r"
      },
      "source": [
        "#accessing data using pandas"
      ]
    },
    {
      "cell_type": "code",
      "metadata": {
        "id": "U-Ek--OX33jw",
        "colab": {
          "base_uri": "https://localhost:8080/"
        },
        "outputId": "e6adcf12-c0e0-44a5-e52c-cc844221e6d5"
      },
      "source": [
        "import pandas as pd\n",
        "\n",
        "df = pd.read_csv('taxi.csv.bz2')\n",
        "df.dtypes"
      ],
      "execution_count": 4,
      "outputs": [
        {
          "output_type": "execute_result",
          "data": {
            "text/plain": [
              "VendorID                   int64\n",
              "tpep_pickup_datetime      object\n",
              "tpep_dropoff_datetime     object\n",
              "passenger_count            int64\n",
              "trip_distance            float64\n",
              "RatecodeID                 int64\n",
              "store_and_fwd_flag        object\n",
              "PULocationID               int64\n",
              "DOLocationID               int64\n",
              "payment_type               int64\n",
              "fare_amount              float64\n",
              "extra                    float64\n",
              "mta_tax                  float64\n",
              "tip_amount               float64\n",
              "tolls_amount             float64\n",
              "improvement_surcharge    float64\n",
              "total_amount             float64\n",
              "dtype: object"
            ]
          },
          "metadata": {
            "tags": []
          },
          "execution_count": 4
        }
      ]
    },
    {
      "cell_type": "markdown",
      "metadata": {
        "id": "32eRsGwD6kH7"
      },
      "source": [
        "#Telling pandas that these are time columns"
      ]
    },
    {
      "cell_type": "code",
      "metadata": {
        "colab": {
          "base_uri": "https://localhost:8080/"
        },
        "id": "CKriCj3t5X02",
        "outputId": "c2226ad7-4c45-42c2-b952-7d90377a456d"
      },
      "source": [
        "time_cols = ['tpep_pickup_datetime', 'tpep_dropoff_datetime']\n",
        "\n",
        "df = pd.read_csv('taxi.csv.bz2', parse_dates=time_cols)\n",
        "df.dtypes\n"
      ],
      "execution_count": 5,
      "outputs": [
        {
          "output_type": "execute_result",
          "data": {
            "text/plain": [
              "VendorID                          int64\n",
              "tpep_pickup_datetime     datetime64[ns]\n",
              "tpep_dropoff_datetime    datetime64[ns]\n",
              "passenger_count                   int64\n",
              "trip_distance                   float64\n",
              "RatecodeID                        int64\n",
              "store_and_fwd_flag               object\n",
              "PULocationID                      int64\n",
              "DOLocationID                      int64\n",
              "payment_type                      int64\n",
              "fare_amount                     float64\n",
              "extra                           float64\n",
              "mta_tax                         float64\n",
              "tip_amount                      float64\n",
              "tolls_amount                    float64\n",
              "improvement_surcharge           float64\n",
              "total_amount                    float64\n",
              "dtype: object"
            ]
          },
          "metadata": {
            "tags": []
          },
          "execution_count": 5
        }
      ]
    },
    {
      "cell_type": "markdown",
      "metadata": {
        "id": "409c_Hmr65kH"
      },
      "source": [
        "#When you are loading a large file, specify the chunk size to read."
      ]
    },
    {
      "cell_type": "code",
      "metadata": {
        "id": "sy3GM7Nj7A9h"
      },
      "source": [
        "df = pd.read_csv('taxi.csv.bz2', parse_dates=time_cols, chunksize=1000)"
      ],
      "execution_count": 6,
      "outputs": []
    },
    {
      "cell_type": "markdown",
      "metadata": {
        "id": "Vm08aloH7ZGQ"
      },
      "source": [
        "#df is a text file reader"
      ]
    },
    {
      "cell_type": "code",
      "metadata": {
        "colab": {
          "base_uri": "https://localhost:8080/"
        },
        "id": "idJ2aZ427Qwe",
        "outputId": "e80fa77d-0706-4fb3-b866-eef1612f9a92"
      },
      "source": [
        "df"
      ],
      "execution_count": 7,
      "outputs": [
        {
          "output_type": "execute_result",
          "data": {
            "text/plain": [
              "<pandas.io.parsers.TextFileReader at 0x7f0283f10f10>"
            ]
          },
          "metadata": {
            "tags": []
          },
          "execution_count": 7
        }
      ]
    },
    {
      "cell_type": "markdown",
      "metadata": {
        "id": "AsYkN5IN7dYL"
      },
      "source": [
        "#It can be iterated over to get part of the data"
      ]
    },
    {
      "cell_type": "code",
      "metadata": {
        "colab": {
          "base_uri": "https://localhost:8080/"
        },
        "id": "gM6SB8uv7YFU",
        "outputId": "fce88556-0b51-4dc7-8de2-ab2799d8f86d"
      },
      "source": [
        "for sub_df in df:\n",
        "  print(len(sub_df))\n",
        "  "
      ],
      "execution_count": 8,
      "outputs": [
        {
          "output_type": "stream",
          "text": [
            "1000\n",
            "1000\n",
            "1000\n",
            "1000\n",
            "1000\n",
            "1000\n",
            "1000\n",
            "1000\n",
            "1000\n",
            "1000\n"
          ],
          "name": "stdout"
        }
      ]
    },
    {
      "cell_type": "markdown",
      "metadata": {
        "id": "dU4b-w_v8Ykf"
      },
      "source": [
        "#Load & converting data from CSV using Pandas"
      ]
    },
    {
      "cell_type": "code",
      "metadata": {
        "colab": {
          "base_uri": "https://localhost:8080/"
        },
        "id": "FZWM2ikh773R",
        "outputId": "9fe2c5d2-e01f-4e11-9caa-8814957ae1b5"
      },
      "source": [
        "import pandas as pd\n",
        "\n",
        "time_cols = ['tpep_dropoff_datetime', 'tpep_pickup_datetime']\n",
        "\n",
        "\n",
        "def load_df(file_name):\n",
        "    return pd.read_csv('taxi.csv.bz2', parse_dates=time_cols)\n",
        "\n",
        "\n",
        "print(load_df('taxi.csv.bz2').head())\n",
        "\n",
        "\n",
        "def iter_df(file_name):\n",
        "    yield from pd.read_csv(\n",
        "        'taxi.csv.bz2', parse_dates=time_cols, chunksize=100)\n",
        "\n",
        "\n",
        "for i, df in enumerate(iter_df('taxi.csv.bz2')):\n",
        "    if i > 10:\n",
        "        break\n",
        "    print(len(df))"
      ],
      "execution_count": 9,
      "outputs": [
        {
          "output_type": "stream",
          "text": [
            "   VendorID tpep_pickup_datetime  ... improvement_surcharge  total_amount\n",
            "0         2  2018-10-31 07:10:55  ...                   0.3         20.54\n",
            "1         2  2018-10-31 16:38:25  ...                   0.3         13.80\n",
            "2         2  2018-10-31 20:23:41  ...                   0.3         11.30\n",
            "3         2  2018-10-31 22:44:24  ...                   0.3          5.80\n",
            "4         2  2018-10-31 23:22:18  ...                   0.3         13.56\n",
            "\n",
            "[5 rows x 17 columns]\n",
            "100\n",
            "100\n",
            "100\n",
            "100\n",
            "100\n",
            "100\n",
            "100\n",
            "100\n",
            "100\n",
            "100\n",
            "100\n"
          ],
          "name": "stdout"
        }
      ]
    },
    {
      "cell_type": "code",
      "metadata": {
        "id": "0NfbJtA18e9b"
      },
      "source": [
        ""
      ],
      "execution_count": null,
      "outputs": []
    }
  ]
}